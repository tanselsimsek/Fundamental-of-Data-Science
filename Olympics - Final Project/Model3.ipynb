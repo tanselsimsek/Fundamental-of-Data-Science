{
 "cells": [
  {
   "cell_type": "markdown",
   "metadata": {},
   "source": [
    "### Model 3 - Linear Regression of Country-wise factors"
   ]
  },
  {
   "cell_type": "markdown",
   "metadata": {},
   "source": [
    "The goal of this third bundle of models is to examine the correlation between total number of medals won by a country and some its characteristics. In this analysis we will consider each country's gross domestic product (GDP), human development index (HDI) and total population for each year the country competed in the Olympic Games.\n",
    "\n",
    "To investigate this problem we will employ some linear regression models. Towards the end we will also implement a logistic regression model and compare its results with those of the corresponding linear regression.\n",
    "\n",
    "As usual, we start off by importing everything that will be needed going forward."
   ]
  },
  {
   "cell_type": "code",
   "execution_count": 1,
   "metadata": {},
   "outputs": [],
   "source": [
    "import pandas as pd\n",
    "import os\n",
    "import numpy as np \n",
    "import pandas as pd\n",
    "import matplotlib.pyplot as plt\n",
    "import seaborn as sns\n",
    "from sklearn.linear_model import LinearRegression\n",
    "from sklearn.linear_model import LogisticRegression\n",
    "from sklearn.metrics import classification_report\n",
    "from scipy.special import expit"
   ]
  },
  {
   "cell_type": "markdown",
   "metadata": {},
   "source": [
    "### Cleaning the dataset"
   ]
  },
  {
   "cell_type": "markdown",
   "metadata": {},
   "source": [
    "Before implementing the models, there is a lot of cleaning up we need to do. We start by importing our main dataset and visualising it."
   ]
  },
  {
   "cell_type": "code",
   "execution_count": 2,
   "metadata": {
    "scrolled": true
   },
   "outputs": [
    {
     "data": {
      "text/html": [
       "<div>\n",
       "<style scoped>\n",
       "    .dataframe tbody tr th:only-of-type {\n",
       "        vertical-align: middle;\n",
       "    }\n",
       "\n",
       "    .dataframe tbody tr th {\n",
       "        vertical-align: top;\n",
       "    }\n",
       "\n",
       "    .dataframe thead th {\n",
       "        text-align: right;\n",
       "    }\n",
       "</style>\n",
       "<table border=\"1\" class=\"dataframe\">\n",
       "  <thead>\n",
       "    <tr style=\"text-align: right;\">\n",
       "      <th></th>\n",
       "      <th>Name</th>\n",
       "      <th>Sex</th>\n",
       "      <th>Age</th>\n",
       "      <th>Height</th>\n",
       "      <th>Weight</th>\n",
       "      <th>Team</th>\n",
       "      <th>NOC</th>\n",
       "      <th>Games</th>\n",
       "      <th>Year</th>\n",
       "      <th>Season</th>\n",
       "      <th>City</th>\n",
       "      <th>Sport</th>\n",
       "      <th>Event</th>\n",
       "      <th>Medal</th>\n",
       "    </tr>\n",
       "    <tr>\n",
       "      <th>ID</th>\n",
       "      <th></th>\n",
       "      <th></th>\n",
       "      <th></th>\n",
       "      <th></th>\n",
       "      <th></th>\n",
       "      <th></th>\n",
       "      <th></th>\n",
       "      <th></th>\n",
       "      <th></th>\n",
       "      <th></th>\n",
       "      <th></th>\n",
       "      <th></th>\n",
       "      <th></th>\n",
       "      <th></th>\n",
       "    </tr>\n",
       "  </thead>\n",
       "  <tbody>\n",
       "    <tr>\n",
       "      <th>1</th>\n",
       "      <td>A Dijiang</td>\n",
       "      <td>M</td>\n",
       "      <td>24.0</td>\n",
       "      <td>180.0</td>\n",
       "      <td>80.0</td>\n",
       "      <td>China</td>\n",
       "      <td>CHN</td>\n",
       "      <td>1992 Summer</td>\n",
       "      <td>1992</td>\n",
       "      <td>Summer</td>\n",
       "      <td>Barcelona</td>\n",
       "      <td>Basketball</td>\n",
       "      <td>Basketball Men's Basketball</td>\n",
       "      <td>NaN</td>\n",
       "    </tr>\n",
       "    <tr>\n",
       "      <th>2</th>\n",
       "      <td>A Lamusi</td>\n",
       "      <td>M</td>\n",
       "      <td>23.0</td>\n",
       "      <td>170.0</td>\n",
       "      <td>60.0</td>\n",
       "      <td>China</td>\n",
       "      <td>CHN</td>\n",
       "      <td>2012 Summer</td>\n",
       "      <td>2012</td>\n",
       "      <td>Summer</td>\n",
       "      <td>London</td>\n",
       "      <td>Judo</td>\n",
       "      <td>Judo Men's Extra-Lightweight</td>\n",
       "      <td>NaN</td>\n",
       "    </tr>\n",
       "    <tr>\n",
       "      <th>3</th>\n",
       "      <td>Gunnar Nielsen Aaby</td>\n",
       "      <td>M</td>\n",
       "      <td>24.0</td>\n",
       "      <td>NaN</td>\n",
       "      <td>NaN</td>\n",
       "      <td>Denmark</td>\n",
       "      <td>DEN</td>\n",
       "      <td>1920 Summer</td>\n",
       "      <td>1920</td>\n",
       "      <td>Summer</td>\n",
       "      <td>Antwerpen</td>\n",
       "      <td>Football</td>\n",
       "      <td>Football Men's Football</td>\n",
       "      <td>NaN</td>\n",
       "    </tr>\n",
       "    <tr>\n",
       "      <th>4</th>\n",
       "      <td>Edgar Lindenau Aabye</td>\n",
       "      <td>M</td>\n",
       "      <td>34.0</td>\n",
       "      <td>NaN</td>\n",
       "      <td>NaN</td>\n",
       "      <td>Denmark/Sweden</td>\n",
       "      <td>DEN</td>\n",
       "      <td>1900 Summer</td>\n",
       "      <td>1900</td>\n",
       "      <td>Summer</td>\n",
       "      <td>Paris</td>\n",
       "      <td>Tug-Of-War</td>\n",
       "      <td>Tug-Of-War Men's Tug-Of-War</td>\n",
       "      <td>Gold</td>\n",
       "    </tr>\n",
       "    <tr>\n",
       "      <th>5</th>\n",
       "      <td>Christine Jacoba Aaftink</td>\n",
       "      <td>F</td>\n",
       "      <td>21.0</td>\n",
       "      <td>185.0</td>\n",
       "      <td>82.0</td>\n",
       "      <td>Netherlands</td>\n",
       "      <td>NED</td>\n",
       "      <td>1988 Winter</td>\n",
       "      <td>1988</td>\n",
       "      <td>Winter</td>\n",
       "      <td>Calgary</td>\n",
       "      <td>Speed Skating</td>\n",
       "      <td>Speed Skating Women's 500 metres</td>\n",
       "      <td>NaN</td>\n",
       "    </tr>\n",
       "  </tbody>\n",
       "</table>\n",
       "</div>"
      ],
      "text/plain": [
       "                        Name Sex   Age  Height  Weight            Team  NOC  \\\n",
       "ID                                                                            \n",
       "1                  A Dijiang   M  24.0   180.0    80.0           China  CHN   \n",
       "2                   A Lamusi   M  23.0   170.0    60.0           China  CHN   \n",
       "3        Gunnar Nielsen Aaby   M  24.0     NaN     NaN         Denmark  DEN   \n",
       "4       Edgar Lindenau Aabye   M  34.0     NaN     NaN  Denmark/Sweden  DEN   \n",
       "5   Christine Jacoba Aaftink   F  21.0   185.0    82.0     Netherlands  NED   \n",
       "\n",
       "          Games  Year  Season       City          Sport  \\\n",
       "ID                                                        \n",
       "1   1992 Summer  1992  Summer  Barcelona     Basketball   \n",
       "2   2012 Summer  2012  Summer     London           Judo   \n",
       "3   1920 Summer  1920  Summer  Antwerpen       Football   \n",
       "4   1900 Summer  1900  Summer      Paris     Tug-Of-War   \n",
       "5   1988 Winter  1988  Winter    Calgary  Speed Skating   \n",
       "\n",
       "                               Event Medal  \n",
       "ID                                          \n",
       "1        Basketball Men's Basketball   NaN  \n",
       "2       Judo Men's Extra-Lightweight   NaN  \n",
       "3            Football Men's Football   NaN  \n",
       "4        Tug-Of-War Men's Tug-Of-War  Gold  \n",
       "5   Speed Skating Women's 500 metres   NaN  "
      ]
     },
     "execution_count": 2,
     "metadata": {},
     "output_type": "execute_result"
    }
   ],
   "source": [
    "initial_df = pd.read_csv('data/athlete_events.csv', index_col='ID') \n",
    "initial_df.head()"
   ]
  },
  {
   "cell_type": "markdown",
   "metadata": {},
   "source": [
    "The team names in this dataset do not always correspond to the country name, as we can clearly see in row 4. For this reason we use a second dataframe, which has the NOC values and the corresponding country names. So we import this dataframe and merge the two together."
   ]
  },
  {
   "cell_type": "code",
   "execution_count": 3,
   "metadata": {},
   "outputs": [],
   "source": [
    "regions_df = pd.read_csv('data/noc_regions.csv')\n",
    "regions_df.columns = ['NOC','Country','notes']\n",
    "# Replace NOC SGP with SIN (Singapore appears with SGP and SIN, but we consider them both to be the same region)\n",
    "initial_df[\"NOC\"].replace({\"SGP\": \"SIN\"}, inplace=True)\n",
    "initial_df = initial_df.merge(regions_df[['NOC', 'Country']], left_on = 'NOC',\n",
    "                       right_on = 'NOC', how = 'left')"
   ]
  },
  {
   "cell_type": "markdown",
   "metadata": {},
   "source": [
    "This dataset is focused on the athletes, whereas our analysis is focused on the countries.  \n",
    "Naturally, we will not be needing all of these columns for our analysis, since we will be focusing on the countries as a whole rather than the single athletes. Also some over specific information about the specific olympic games, such as the city in which they took place, are irrelevant for our analysis. For these reasons, we drop some columns from our dataframe."
   ]
  },
  {
   "cell_type": "code",
   "execution_count": 4,
   "metadata": {},
   "outputs": [],
   "source": [
    "columns = [\"Name\",\"Sex\",\"Age\",\"Height\",\"Weight\",\"Games\",\"City\",\"Sport\",\"Season\",\"Team\"]\n",
    "initial_df.drop(columns, inplace=True, axis=1)"
   ]
  },
  {
   "cell_type": "markdown",
   "metadata": {},
   "source": [
    "For future merging (of the dictionary) we will need to add another column, which displays the combination of Country and Year."
   ]
  },
  {
   "cell_type": "code",
   "execution_count": 5,
   "metadata": {
    "scrolled": true
   },
   "outputs": [],
   "source": [
    "Country_Year = [(str(initial_df['Country'][i])+' '+str(initial_df['Year'][i])) for i,row in initial_df.iterrows()]\n",
    "initial_df['Country_Year'] = Country_Year"
   ]
  },
  {
   "cell_type": "markdown",
   "metadata": {},
   "source": [
    "Since a lot of data are missing before 1960, we delete every row with Year<1960."
   ]
  },
  {
   "cell_type": "code",
   "execution_count": 6,
   "metadata": {},
   "outputs": [],
   "source": [
    "initial_df = initial_df[initial_df['Year']>1959].reset_index()"
   ]
  },
  {
   "cell_type": "markdown",
   "metadata": {},
   "source": [
    "Our first goal for this part is to check whether the number of total medals won by a country is affected (?) by its GDP, population size and HDI. For this reason we only include in the dataframe countries that have won a medal in a given olympic game."
   ]
  },
  {
   "cell_type": "code",
   "execution_count": 7,
   "metadata": {
    "scrolled": true
   },
   "outputs": [
    {
     "data": {
      "text/html": [
       "<div>\n",
       "<style scoped>\n",
       "    .dataframe tbody tr th:only-of-type {\n",
       "        vertical-align: middle;\n",
       "    }\n",
       "\n",
       "    .dataframe tbody tr th {\n",
       "        vertical-align: top;\n",
       "    }\n",
       "\n",
       "    .dataframe thead th {\n",
       "        text-align: right;\n",
       "    }\n",
       "</style>\n",
       "<table border=\"1\" class=\"dataframe\">\n",
       "  <thead>\n",
       "    <tr style=\"text-align: right;\">\n",
       "      <th></th>\n",
       "      <th>index</th>\n",
       "      <th>NOC</th>\n",
       "      <th>Year</th>\n",
       "      <th>Event</th>\n",
       "      <th>Medal</th>\n",
       "      <th>Country</th>\n",
       "      <th>Country_Year</th>\n",
       "    </tr>\n",
       "  </thead>\n",
       "  <tbody>\n",
       "    <tr>\n",
       "      <th>30</th>\n",
       "      <td>40</td>\n",
       "      <td>FIN</td>\n",
       "      <td>2014</td>\n",
       "      <td>Ice Hockey Men's Ice Hockey</td>\n",
       "      <td>Bronze</td>\n",
       "      <td>Finland</td>\n",
       "      <td>Finland 2014</td>\n",
       "    </tr>\n",
       "    <tr>\n",
       "      <th>33</th>\n",
       "      <td>60</td>\n",
       "      <td>NOR</td>\n",
       "      <td>1992</td>\n",
       "      <td>Alpine Skiing Men's Super G</td>\n",
       "      <td>Gold</td>\n",
       "      <td>Norway</td>\n",
       "      <td>Norway 1992</td>\n",
       "    </tr>\n",
       "    <tr>\n",
       "      <th>34</th>\n",
       "      <td>61</td>\n",
       "      <td>NOR</td>\n",
       "      <td>1992</td>\n",
       "      <td>Alpine Skiing Men's Giant Slalom</td>\n",
       "      <td>Bronze</td>\n",
       "      <td>Norway</td>\n",
       "      <td>Norway 1992</td>\n",
       "    </tr>\n",
       "  </tbody>\n",
       "</table>\n",
       "</div>"
      ],
      "text/plain": [
       "    index  NOC  Year                             Event   Medal  Country  \\\n",
       "30     40  FIN  2014       Ice Hockey Men's Ice Hockey  Bronze  Finland   \n",
       "33     60  NOR  1992       Alpine Skiing Men's Super G    Gold   Norway   \n",
       "34     61  NOR  1992  Alpine Skiing Men's Giant Slalom  Bronze   Norway   \n",
       "\n",
       "    Country_Year  \n",
       "30  Finland 2014  \n",
       "33   Norway 1992  \n",
       "34   Norway 1992  "
      ]
     },
     "execution_count": 7,
     "metadata": {},
     "output_type": "execute_result"
    }
   ],
   "source": [
    "medal = [\"Gold\",\"Silver\",\"Bronze\"]\n",
    "initial_df = initial_df[initial_df['Medal'].isin(medal)]\n",
    "initial_df = initial_df.dropna(subset=[\"NOC\",\"Medal\"])\n",
    "initial_df.head(3)"
   ]
  },
  {
   "cell_type": "markdown",
   "metadata": {},
   "source": [
    "Next, we check the total number of medals won by each country per year. To do this we first create a dictionary with the needed information and then convert it into a dataframe. We also compile a second dictionary to keep track of those events which award more than one medal per winner, for example synchronised diving. This way, in the final dataframe we will only account for one medal per event per winning country, rather than multiple ones."
   ]
  },
  {
   "cell_type": "code",
   "execution_count": 8,
   "metadata": {},
   "outputs": [],
   "source": [
    "medals_per_year = {}\n",
    "avoid_group_sports = {}\n",
    "n=0\n",
    "for i,row in initial_df.iterrows():\n",
    "    y = int(initial_df['Year'][i])\n",
    "    s = str(initial_df['Country_Year'][i])\n",
    "    e = str(initial_df['Event'][i]+' '+s)\n",
    "    if e not in avoid_group_sports:\n",
    "        avoid_group_sports[e] = 1\n",
    "        if s not in medals_per_year:\n",
    "            medals_per_year[s] = 1\n",
    "        else:\n",
    "            medals_per_year[s] +=1\n",
    "    else:\n",
    "        avoid_group_sports[e] += 1"
   ]
  },
  {
   "cell_type": "code",
   "execution_count": 9,
   "metadata": {},
   "outputs": [
    {
     "name": "stdout",
     "output_type": "stream",
     "text": [
      "1062 12338 28400\n"
     ]
    }
   ],
   "source": [
    "print(len(medals_per_year),len(avoid_group_sports),len(initial_df))"
   ]
  },
  {
   "cell_type": "markdown",
   "metadata": {},
   "source": [
    "As can be seen from the print above, the lengths of the three datasets are very different:\n",
    "- 28,400 are the athletes that have compited in the olympics and won a medal since 1960\n",
    "- 12,338 are the events in which medals have been won throughout the years\n",
    "- 1,062 are the countries that have compited in the olympics, each country is counted multiple times depending on the year"
   ]
  },
  {
   "cell_type": "markdown",
   "metadata": {},
   "source": [
    "Finally, we initialise a new dataset, which keeps count of the amount of medals won by each country in a year. \"mpy\" stands for \"medals per year\"."
   ]
  },
  {
   "cell_type": "code",
   "execution_count": 10,
   "metadata": {},
   "outputs": [],
   "source": [
    "mpy = pd.DataFrame(medals_per_year.items())\n",
    "mpy.columns = ['Country_Year','Medals_won']"
   ]
  },
  {
   "cell_type": "markdown",
   "metadata": {},
   "source": [
    "Lastly, to make it easier to match up the other datasets, we add two other columns to our dataset."
   ]
  },
  {
   "cell_type": "code",
   "execution_count": 11,
   "metadata": {},
   "outputs": [],
   "source": [
    "countries = []\n",
    "years = []\n",
    "for i,row in mpy.iterrows():\n",
    "    try:\n",
    "        c,y = mpy['Country_Year'][i].split()\n",
    "    except:\n",
    "        try:\n",
    "            c1,c2,y = mpy['Country_Year'][i].split()\n",
    "            c=str(c1+' '+c2)\n",
    "        except:\n",
    "            c1,c2,c3,y = mpy['Country_Year'][i].split()\n",
    "            c=str(c1+' '+c2+' '+c3)\n",
    "    countries.append(c)\n",
    "    years.append(y)"
   ]
  },
  {
   "cell_type": "code",
   "execution_count": 12,
   "metadata": {},
   "outputs": [
    {
     "data": {
      "text/html": [
       "<div>\n",
       "<style scoped>\n",
       "    .dataframe tbody tr th:only-of-type {\n",
       "        vertical-align: middle;\n",
       "    }\n",
       "\n",
       "    .dataframe tbody tr th {\n",
       "        vertical-align: top;\n",
       "    }\n",
       "\n",
       "    .dataframe thead th {\n",
       "        text-align: right;\n",
       "    }\n",
       "</style>\n",
       "<table border=\"1\" class=\"dataframe\">\n",
       "  <thead>\n",
       "    <tr style=\"text-align: right;\">\n",
       "      <th></th>\n",
       "      <th>Country_Year</th>\n",
       "      <th>Medals_won</th>\n",
       "      <th>Country</th>\n",
       "      <th>Year</th>\n",
       "    </tr>\n",
       "  </thead>\n",
       "  <tbody>\n",
       "    <tr>\n",
       "      <th>0</th>\n",
       "      <td>Finland 2014</td>\n",
       "      <td>5</td>\n",
       "      <td>Finland</td>\n",
       "      <td>2014</td>\n",
       "    </tr>\n",
       "    <tr>\n",
       "      <th>1</th>\n",
       "      <td>Norway 1992</td>\n",
       "      <td>20</td>\n",
       "      <td>Norway</td>\n",
       "      <td>1992</td>\n",
       "    </tr>\n",
       "    <tr>\n",
       "      <th>2</th>\n",
       "      <td>Norway 1994</td>\n",
       "      <td>17</td>\n",
       "      <td>Norway</td>\n",
       "      <td>1994</td>\n",
       "    </tr>\n",
       "  </tbody>\n",
       "</table>\n",
       "</div>"
      ],
      "text/plain": [
       "   Country_Year  Medals_won  Country  Year\n",
       "0  Finland 2014           5  Finland  2014\n",
       "1   Norway 1992          20   Norway  1992\n",
       "2   Norway 1994          17   Norway  1994"
      ]
     },
     "execution_count": 12,
     "metadata": {},
     "output_type": "execute_result"
    }
   ],
   "source": [
    "mpy['Country'] = countries\n",
    "mpy['Year'] = years\n",
    "mpy['Year'] = pd.to_numeric(mpy['Year'])\n",
    "mpy.head(3)"
   ]
  },
  {
   "cell_type": "markdown",
   "metadata": {},
   "source": [
    "Next, we need to include some external dataframes into our main dataset. These correspond to the information we want to confront with the number of medals won - gdp, popsize and hdi.\n",
    "Firstly, we import the new datasets."
   ]
  },
  {
   "cell_type": "code",
   "execution_count": 13,
   "metadata": {},
   "outputs": [],
   "source": [
    "GDP_df = pd.read_excel('data/w_gdp.xls')\n",
    "pop_df = pd.read_excel('data/WorldPopulation.xlsx')\n",
    "HDI_df = pd.read_excel('data/Human Development Index (HDI).xlsx')"
   ]
  },
  {
   "cell_type": "markdown",
   "metadata": {},
   "source": [
    "#### Adding GDP"
   ]
  },
  {
   "cell_type": "code",
   "execution_count": 14,
   "metadata": {},
   "outputs": [
    {
     "data": {
      "text/html": [
       "<div>\n",
       "<style scoped>\n",
       "    .dataframe tbody tr th:only-of-type {\n",
       "        vertical-align: middle;\n",
       "    }\n",
       "\n",
       "    .dataframe tbody tr th {\n",
       "        vertical-align: top;\n",
       "    }\n",
       "\n",
       "    .dataframe thead th {\n",
       "        text-align: right;\n",
       "    }\n",
       "</style>\n",
       "<table border=\"1\" class=\"dataframe\">\n",
       "  <thead>\n",
       "    <tr style=\"text-align: right;\">\n",
       "      <th></th>\n",
       "      <th>Country Name</th>\n",
       "      <th>Country Code</th>\n",
       "      <th>Indicator Name</th>\n",
       "      <th>Indicator Code</th>\n",
       "      <th>1960</th>\n",
       "      <th>1961</th>\n",
       "      <th>1962</th>\n",
       "      <th>1963</th>\n",
       "      <th>1964</th>\n",
       "      <th>1965</th>\n",
       "      <th>...</th>\n",
       "      <th>2008</th>\n",
       "      <th>2009</th>\n",
       "      <th>2010</th>\n",
       "      <th>2011</th>\n",
       "      <th>2012</th>\n",
       "      <th>2013</th>\n",
       "      <th>2014</th>\n",
       "      <th>2015</th>\n",
       "      <th>2016</th>\n",
       "      <th>2017</th>\n",
       "    </tr>\n",
       "  </thead>\n",
       "  <tbody>\n",
       "    <tr>\n",
       "      <th>0</th>\n",
       "      <td>Afghanistan</td>\n",
       "      <td>AFG</td>\n",
       "      <td>GDP (current US$)</td>\n",
       "      <td>NY.GDP.MKTP.CD</td>\n",
       "      <td>5.377778e+08</td>\n",
       "      <td>5.488889e+08</td>\n",
       "      <td>5.466667e+08</td>\n",
       "      <td>7.511112e+08</td>\n",
       "      <td>8.000000e+08</td>\n",
       "      <td>1.006667e+09</td>\n",
       "      <td>...</td>\n",
       "      <td>1.019053e+10</td>\n",
       "      <td>1.248694e+10</td>\n",
       "      <td>1.593680e+10</td>\n",
       "      <td>1.793024e+10</td>\n",
       "      <td>2.053654e+10</td>\n",
       "      <td>2.004633e+10</td>\n",
       "      <td>2.005019e+10</td>\n",
       "      <td>1.921556e+10</td>\n",
       "      <td>1.946902e+10</td>\n",
       "      <td>NaN</td>\n",
       "    </tr>\n",
       "    <tr>\n",
       "      <th>1</th>\n",
       "      <td>Albania</td>\n",
       "      <td>ALB</td>\n",
       "      <td>GDP (current US$)</td>\n",
       "      <td>NY.GDP.MKTP.CD</td>\n",
       "      <td>NaN</td>\n",
       "      <td>NaN</td>\n",
       "      <td>NaN</td>\n",
       "      <td>NaN</td>\n",
       "      <td>NaN</td>\n",
       "      <td>NaN</td>\n",
       "      <td>...</td>\n",
       "      <td>1.288135e+10</td>\n",
       "      <td>1.204421e+10</td>\n",
       "      <td>1.192695e+10</td>\n",
       "      <td>1.289087e+10</td>\n",
       "      <td>1.231978e+10</td>\n",
       "      <td>1.277628e+10</td>\n",
       "      <td>1.322824e+10</td>\n",
       "      <td>1.133526e+10</td>\n",
       "      <td>1.186387e+10</td>\n",
       "      <td>NaN</td>\n",
       "    </tr>\n",
       "    <tr>\n",
       "      <th>2</th>\n",
       "      <td>Algeria</td>\n",
       "      <td>DZA</td>\n",
       "      <td>GDP (current US$)</td>\n",
       "      <td>NY.GDP.MKTP.CD</td>\n",
       "      <td>2.723649e+09</td>\n",
       "      <td>2.434777e+09</td>\n",
       "      <td>2.001469e+09</td>\n",
       "      <td>2.703015e+09</td>\n",
       "      <td>2.909352e+09</td>\n",
       "      <td>3.136259e+09</td>\n",
       "      <td>...</td>\n",
       "      <td>1.710007e+11</td>\n",
       "      <td>1.372110e+11</td>\n",
       "      <td>1.612073e+11</td>\n",
       "      <td>2.000191e+11</td>\n",
       "      <td>2.090590e+11</td>\n",
       "      <td>2.097550e+11</td>\n",
       "      <td>2.138100e+11</td>\n",
       "      <td>1.658743e+11</td>\n",
       "      <td>1.590491e+11</td>\n",
       "      <td>NaN</td>\n",
       "    </tr>\n",
       "    <tr>\n",
       "      <th>3</th>\n",
       "      <td>American Samoa</td>\n",
       "      <td>ASM</td>\n",
       "      <td>GDP (current US$)</td>\n",
       "      <td>NY.GDP.MKTP.CD</td>\n",
       "      <td>NaN</td>\n",
       "      <td>NaN</td>\n",
       "      <td>NaN</td>\n",
       "      <td>NaN</td>\n",
       "      <td>NaN</td>\n",
       "      <td>NaN</td>\n",
       "      <td>...</td>\n",
       "      <td>5.630000e+08</td>\n",
       "      <td>6.780000e+08</td>\n",
       "      <td>5.760000e+08</td>\n",
       "      <td>5.740000e+08</td>\n",
       "      <td>6.440000e+08</td>\n",
       "      <td>6.410000e+08</td>\n",
       "      <td>6.430000e+08</td>\n",
       "      <td>6.590000e+08</td>\n",
       "      <td>6.580000e+08</td>\n",
       "      <td>NaN</td>\n",
       "    </tr>\n",
       "    <tr>\n",
       "      <th>4</th>\n",
       "      <td>Andorra</td>\n",
       "      <td>AND</td>\n",
       "      <td>GDP (current US$)</td>\n",
       "      <td>NY.GDP.MKTP.CD</td>\n",
       "      <td>NaN</td>\n",
       "      <td>NaN</td>\n",
       "      <td>NaN</td>\n",
       "      <td>NaN</td>\n",
       "      <td>NaN</td>\n",
       "      <td>NaN</td>\n",
       "      <td>...</td>\n",
       "      <td>4.007353e+09</td>\n",
       "      <td>3.660531e+09</td>\n",
       "      <td>3.355695e+09</td>\n",
       "      <td>3.442063e+09</td>\n",
       "      <td>3.164615e+09</td>\n",
       "      <td>3.281585e+09</td>\n",
       "      <td>3.350736e+09</td>\n",
       "      <td>2.811489e+09</td>\n",
       "      <td>2.858518e+09</td>\n",
       "      <td>NaN</td>\n",
       "    </tr>\n",
       "  </tbody>\n",
       "</table>\n",
       "<p>5 rows × 62 columns</p>\n",
       "</div>"
      ],
      "text/plain": [
       "     Country Name Country Code     Indicator Name  Indicator Code  \\\n",
       "0     Afghanistan          AFG  GDP (current US$)  NY.GDP.MKTP.CD   \n",
       "1         Albania          ALB  GDP (current US$)  NY.GDP.MKTP.CD   \n",
       "2         Algeria          DZA  GDP (current US$)  NY.GDP.MKTP.CD   \n",
       "3  American Samoa          ASM  GDP (current US$)  NY.GDP.MKTP.CD   \n",
       "4         Andorra          AND  GDP (current US$)  NY.GDP.MKTP.CD   \n",
       "\n",
       "           1960          1961          1962          1963          1964  \\\n",
       "0  5.377778e+08  5.488889e+08  5.466667e+08  7.511112e+08  8.000000e+08   \n",
       "1           NaN           NaN           NaN           NaN           NaN   \n",
       "2  2.723649e+09  2.434777e+09  2.001469e+09  2.703015e+09  2.909352e+09   \n",
       "3           NaN           NaN           NaN           NaN           NaN   \n",
       "4           NaN           NaN           NaN           NaN           NaN   \n",
       "\n",
       "           1965  ...          2008          2009          2010          2011  \\\n",
       "0  1.006667e+09  ...  1.019053e+10  1.248694e+10  1.593680e+10  1.793024e+10   \n",
       "1           NaN  ...  1.288135e+10  1.204421e+10  1.192695e+10  1.289087e+10   \n",
       "2  3.136259e+09  ...  1.710007e+11  1.372110e+11  1.612073e+11  2.000191e+11   \n",
       "3           NaN  ...  5.630000e+08  6.780000e+08  5.760000e+08  5.740000e+08   \n",
       "4           NaN  ...  4.007353e+09  3.660531e+09  3.355695e+09  3.442063e+09   \n",
       "\n",
       "           2012          2013          2014          2015          2016  2017  \n",
       "0  2.053654e+10  2.004633e+10  2.005019e+10  1.921556e+10  1.946902e+10   NaN  \n",
       "1  1.231978e+10  1.277628e+10  1.322824e+10  1.133526e+10  1.186387e+10   NaN  \n",
       "2  2.090590e+11  2.097550e+11  2.138100e+11  1.658743e+11  1.590491e+11   NaN  \n",
       "3  6.440000e+08  6.410000e+08  6.430000e+08  6.590000e+08  6.580000e+08   NaN  \n",
       "4  3.164615e+09  3.281585e+09  3.350736e+09  2.811489e+09  2.858518e+09   NaN  \n",
       "\n",
       "[5 rows x 62 columns]"
      ]
     },
     "execution_count": 14,
     "metadata": {},
     "output_type": "execute_result"
    }
   ],
   "source": [
    "GDP_df.head()"
   ]
  },
  {
   "cell_type": "markdown",
   "metadata": {},
   "source": [
    "Remove unnecessary columns and melt down to dataframes."
   ]
  },
  {
   "cell_type": "code",
   "execution_count": 15,
   "metadata": {},
   "outputs": [],
   "source": [
    "GDP_df = GDP_df.drop(['Indicator Name', 'Indicator Code','Country Code'], axis=1)\n",
    "GDP_df = pd.melt(GDP_df, id_vars = ['Country Name'], var_name = 'Year', value_name = 'GDP')\n",
    "GDP_df.columns = ['Country','Year','GDP']\n",
    "GDP_df['Year'] = pd.to_numeric(GDP_df['Year'])"
   ]
  },
  {
   "cell_type": "code",
   "execution_count": 16,
   "metadata": {},
   "outputs": [
    {
     "data": {
      "text/plain": [
       "['Taiwan', 'Individual Olympic Athletes']"
      ]
     },
     "execution_count": 16,
     "metadata": {},
     "output_type": "execute_result"
    }
   ],
   "source": [
    "list(set(mpy['Country'].unique()) - set(GDP_df['Country'].unique()))"
   ]
  },
  {
   "cell_type": "markdown",
   "metadata": {},
   "source": [
    "Those are the countries that are in mpy but not in the GDP dataframe. This makes sense since \"Individual Olympic Athletes\" is not a country, and Taiwan is part of China. For HDI and population size there will also be similar problems, especially HDI which does not have a value for a lot of small countries.\n",
    "\n",
    "So lastly, we add a GDP column to our dataframe."
   ]
  },
  {
   "cell_type": "code",
   "execution_count": 17,
   "metadata": {},
   "outputs": [
    {
     "data": {
      "text/html": [
       "<div>\n",
       "<style scoped>\n",
       "    .dataframe tbody tr th:only-of-type {\n",
       "        vertical-align: middle;\n",
       "    }\n",
       "\n",
       "    .dataframe tbody tr th {\n",
       "        vertical-align: top;\n",
       "    }\n",
       "\n",
       "    .dataframe thead th {\n",
       "        text-align: right;\n",
       "    }\n",
       "</style>\n",
       "<table border=\"1\" class=\"dataframe\">\n",
       "  <thead>\n",
       "    <tr style=\"text-align: right;\">\n",
       "      <th></th>\n",
       "      <th>Country_Year</th>\n",
       "      <th>Medals_won</th>\n",
       "      <th>Country</th>\n",
       "      <th>Year</th>\n",
       "      <th>GDP</th>\n",
       "    </tr>\n",
       "  </thead>\n",
       "  <tbody>\n",
       "    <tr>\n",
       "      <th>0</th>\n",
       "      <td>Finland 2014</td>\n",
       "      <td>5</td>\n",
       "      <td>Finland</td>\n",
       "      <td>2014</td>\n",
       "      <td>2.726093e+11</td>\n",
       "    </tr>\n",
       "    <tr>\n",
       "      <th>1</th>\n",
       "      <td>Norway 1992</td>\n",
       "      <td>20</td>\n",
       "      <td>Norway</td>\n",
       "      <td>1992</td>\n",
       "      <td>1.308380e+11</td>\n",
       "    </tr>\n",
       "    <tr>\n",
       "      <th>2</th>\n",
       "      <td>Norway 1994</td>\n",
       "      <td>17</td>\n",
       "      <td>Norway</td>\n",
       "      <td>1994</td>\n",
       "      <td>1.271315e+11</td>\n",
       "    </tr>\n",
       "  </tbody>\n",
       "</table>\n",
       "</div>"
      ],
      "text/plain": [
       "   Country_Year  Medals_won  Country  Year           GDP\n",
       "0  Finland 2014           5  Finland  2014  2.726093e+11\n",
       "1   Norway 1992          20   Norway  1992  1.308380e+11\n",
       "2   Norway 1994          17   Norway  1994  1.271315e+11"
      ]
     },
     "execution_count": 17,
     "metadata": {},
     "output_type": "execute_result"
    }
   ],
   "source": [
    "complete_df = mpy.merge(GDP_df, on=['Year', 'Country'], how='left')\n",
    "complete_df.head(3)"
   ]
  },
  {
   "cell_type": "markdown",
   "metadata": {},
   "source": [
    "These same steps are then repeated identically for the population size and HDI."
   ]
  },
  {
   "cell_type": "markdown",
   "metadata": {},
   "source": [
    "#### Adding population"
   ]
  },
  {
   "cell_type": "code",
   "execution_count": 18,
   "metadata": {},
   "outputs": [
    {
     "data": {
      "text/html": [
       "<div>\n",
       "<style scoped>\n",
       "    .dataframe tbody tr th:only-of-type {\n",
       "        vertical-align: middle;\n",
       "    }\n",
       "\n",
       "    .dataframe tbody tr th {\n",
       "        vertical-align: top;\n",
       "    }\n",
       "\n",
       "    .dataframe thead th {\n",
       "        text-align: right;\n",
       "    }\n",
       "</style>\n",
       "<table border=\"1\" class=\"dataframe\">\n",
       "  <thead>\n",
       "    <tr style=\"text-align: right;\">\n",
       "      <th></th>\n",
       "      <th>Country</th>\n",
       "      <th>Country Code</th>\n",
       "      <th>Indicator Name</th>\n",
       "      <th>Indicator Code</th>\n",
       "      <th>1960</th>\n",
       "      <th>1961</th>\n",
       "      <th>1962</th>\n",
       "      <th>1963</th>\n",
       "      <th>1964</th>\n",
       "      <th>1965</th>\n",
       "      <th>...</th>\n",
       "      <th>2008</th>\n",
       "      <th>2009</th>\n",
       "      <th>2010</th>\n",
       "      <th>2011</th>\n",
       "      <th>2012</th>\n",
       "      <th>2013</th>\n",
       "      <th>2014</th>\n",
       "      <th>2015</th>\n",
       "      <th>2016</th>\n",
       "      <th>Country,Country Code,Indicator Name,Indicator Code,1960,1961,1962,1963,1964,1965,1966,1967,1968,1969,1970,1971,1972,1973,1974,1975,1976,1977,1978,1979,1980,1981,1982,1983,1984,1985,1986,1987,1988,1989,1990,1991,1992,1993,1994,1995,1996,1997,1998,1999,2000,2001,2002,2003,2004,2005,2006,2007,2008,2009,2010,2011,2012,2013,2014,2015,2016</th>\n",
       "    </tr>\n",
       "  </thead>\n",
       "  <tbody>\n",
       "    <tr>\n",
       "      <th>0</th>\n",
       "      <td>Aruba</td>\n",
       "      <td>ABW</td>\n",
       "      <td>Population, total</td>\n",
       "      <td>SP.POP.TOTL</td>\n",
       "      <td>54211.0</td>\n",
       "      <td>55438.0</td>\n",
       "      <td>56225.0</td>\n",
       "      <td>56695.0</td>\n",
       "      <td>57032.0</td>\n",
       "      <td>57360.0</td>\n",
       "      <td>...</td>\n",
       "      <td>101353.0</td>\n",
       "      <td>101453.0</td>\n",
       "      <td>101669.0</td>\n",
       "      <td>102053.0</td>\n",
       "      <td>102577.0</td>\n",
       "      <td>103187.0</td>\n",
       "      <td>103795.0</td>\n",
       "      <td>104341.0</td>\n",
       "      <td>104822</td>\n",
       "      <td>Aruba,ABW,\"Population, total\",SP.POP.TOTL,5421...</td>\n",
       "    </tr>\n",
       "    <tr>\n",
       "      <th>1</th>\n",
       "      <td>Afghanistan</td>\n",
       "      <td>AFG</td>\n",
       "      <td>Population, total</td>\n",
       "      <td>SP.POP.TOTL</td>\n",
       "      <td>8996351.0</td>\n",
       "      <td>9166764.0</td>\n",
       "      <td>9345868.0</td>\n",
       "      <td>9533954.0</td>\n",
       "      <td>9731361.0</td>\n",
       "      <td>9938414.0</td>\n",
       "      <td>...</td>\n",
       "      <td>27294031.0</td>\n",
       "      <td>28004331.0</td>\n",
       "      <td>28803167.0</td>\n",
       "      <td>29708599.0</td>\n",
       "      <td>30696958.0</td>\n",
       "      <td>31731688.0</td>\n",
       "      <td>32758020.0</td>\n",
       "      <td>33736494.0</td>\n",
       "      <td>34656032</td>\n",
       "      <td>Afghanistan,AFG,\"Population, total\",SP.POP.TOT...</td>\n",
       "    </tr>\n",
       "    <tr>\n",
       "      <th>2</th>\n",
       "      <td>Angola</td>\n",
       "      <td>AGO</td>\n",
       "      <td>Population, total</td>\n",
       "      <td>SP.POP.TOTL</td>\n",
       "      <td>5643182.0</td>\n",
       "      <td>5753024.0</td>\n",
       "      <td>5866061.0</td>\n",
       "      <td>5980417.0</td>\n",
       "      <td>6093321.0</td>\n",
       "      <td>6203299.0</td>\n",
       "      <td>...</td>\n",
       "      <td>21759420.0</td>\n",
       "      <td>22549547.0</td>\n",
       "      <td>23369131.0</td>\n",
       "      <td>24218565.0</td>\n",
       "      <td>25096150.0</td>\n",
       "      <td>25998340.0</td>\n",
       "      <td>26920466.0</td>\n",
       "      <td>27859305.0</td>\n",
       "      <td>28813463</td>\n",
       "      <td>Angola,AGO,\"Population, total\",SP.POP.TOTL,564...</td>\n",
       "    </tr>\n",
       "    <tr>\n",
       "      <th>3</th>\n",
       "      <td>Albania</td>\n",
       "      <td>ALB</td>\n",
       "      <td>Population, total</td>\n",
       "      <td>SP.POP.TOTL</td>\n",
       "      <td>1608800.0</td>\n",
       "      <td>1659800.0</td>\n",
       "      <td>1711319.0</td>\n",
       "      <td>1762621.0</td>\n",
       "      <td>1814135.0</td>\n",
       "      <td>1864791.0</td>\n",
       "      <td>...</td>\n",
       "      <td>2947314.0</td>\n",
       "      <td>2927519.0</td>\n",
       "      <td>2913021.0</td>\n",
       "      <td>2905195.0</td>\n",
       "      <td>2900401.0</td>\n",
       "      <td>2895092.0</td>\n",
       "      <td>2889104.0</td>\n",
       "      <td>2880703.0</td>\n",
       "      <td>2876101</td>\n",
       "      <td>Albania,ALB,\"Population, total\",SP.POP.TOTL,16...</td>\n",
       "    </tr>\n",
       "    <tr>\n",
       "      <th>4</th>\n",
       "      <td>Andorra</td>\n",
       "      <td>AND</td>\n",
       "      <td>Population, total</td>\n",
       "      <td>SP.POP.TOTL</td>\n",
       "      <td>13411.0</td>\n",
       "      <td>14375.0</td>\n",
       "      <td>15370.0</td>\n",
       "      <td>16412.0</td>\n",
       "      <td>17469.0</td>\n",
       "      <td>18549.0</td>\n",
       "      <td>...</td>\n",
       "      <td>83861.0</td>\n",
       "      <td>84462.0</td>\n",
       "      <td>84449.0</td>\n",
       "      <td>83751.0</td>\n",
       "      <td>82431.0</td>\n",
       "      <td>80788.0</td>\n",
       "      <td>79223.0</td>\n",
       "      <td>78014.0</td>\n",
       "      <td>77281</td>\n",
       "      <td>Andorra,AND,\"Population, total\",SP.POP.TOTL,13...</td>\n",
       "    </tr>\n",
       "  </tbody>\n",
       "</table>\n",
       "<p>5 rows × 62 columns</p>\n",
       "</div>"
      ],
      "text/plain": [
       "       Country Country Code     Indicator Name Indicator Code       1960  \\\n",
       "0        Aruba          ABW  Population, total    SP.POP.TOTL    54211.0   \n",
       "1  Afghanistan          AFG  Population, total    SP.POP.TOTL  8996351.0   \n",
       "2       Angola          AGO  Population, total    SP.POP.TOTL  5643182.0   \n",
       "3      Albania          ALB  Population, total    SP.POP.TOTL  1608800.0   \n",
       "4      Andorra          AND  Population, total    SP.POP.TOTL    13411.0   \n",
       "\n",
       "        1961       1962       1963       1964       1965  ...        2008  \\\n",
       "0    55438.0    56225.0    56695.0    57032.0    57360.0  ...    101353.0   \n",
       "1  9166764.0  9345868.0  9533954.0  9731361.0  9938414.0  ...  27294031.0   \n",
       "2  5753024.0  5866061.0  5980417.0  6093321.0  6203299.0  ...  21759420.0   \n",
       "3  1659800.0  1711319.0  1762621.0  1814135.0  1864791.0  ...   2947314.0   \n",
       "4    14375.0    15370.0    16412.0    17469.0    18549.0  ...     83861.0   \n",
       "\n",
       "         2009        2010        2011        2012        2013        2014  \\\n",
       "0    101453.0    101669.0    102053.0    102577.0    103187.0    103795.0   \n",
       "1  28004331.0  28803167.0  29708599.0  30696958.0  31731688.0  32758020.0   \n",
       "2  22549547.0  23369131.0  24218565.0  25096150.0  25998340.0  26920466.0   \n",
       "3   2927519.0   2913021.0   2905195.0   2900401.0   2895092.0   2889104.0   \n",
       "4     84462.0     84449.0     83751.0     82431.0     80788.0     79223.0   \n",
       "\n",
       "         2015      2016  \\\n",
       "0    104341.0    104822   \n",
       "1  33736494.0  34656032   \n",
       "2  27859305.0  28813463   \n",
       "3   2880703.0   2876101   \n",
       "4     78014.0     77281   \n",
       "\n",
       "   Country,Country Code,Indicator Name,Indicator Code,1960,1961,1962,1963,1964,1965,1966,1967,1968,1969,1970,1971,1972,1973,1974,1975,1976,1977,1978,1979,1980,1981,1982,1983,1984,1985,1986,1987,1988,1989,1990,1991,1992,1993,1994,1995,1996,1997,1998,1999,2000,2001,2002,2003,2004,2005,2006,2007,2008,2009,2010,2011,2012,2013,2014,2015,2016  \n",
       "0  Aruba,ABW,\"Population, total\",SP.POP.TOTL,5421...                                                                                                                                                                                                                                                                                                \n",
       "1  Afghanistan,AFG,\"Population, total\",SP.POP.TOT...                                                                                                                                                                                                                                                                                                \n",
       "2  Angola,AGO,\"Population, total\",SP.POP.TOTL,564...                                                                                                                                                                                                                                                                                                \n",
       "3  Albania,ALB,\"Population, total\",SP.POP.TOTL,16...                                                                                                                                                                                                                                                                                                \n",
       "4  Andorra,AND,\"Population, total\",SP.POP.TOTL,13...                                                                                                                                                                                                                                                                                                \n",
       "\n",
       "[5 rows x 62 columns]"
      ]
     },
     "execution_count": 18,
     "metadata": {},
     "output_type": "execute_result"
    }
   ],
   "source": [
    "pop_df.head()"
   ]
  },
  {
   "cell_type": "code",
   "execution_count": 19,
   "metadata": {},
   "outputs": [],
   "source": [
    "pop_df = pop_df.drop(['Indicator Name', 'Indicator Code','Country Code'], axis=1)\n",
    "pop_df = pd.melt(pop_df, id_vars = ['Country'], var_name = 'Year', value_name = 'Population_Size')\n",
    "pop_df = pop_df[:12369]\n",
    "pop_df.columns = ['Country','Year','Population_Size']\n",
    "pop_df['Year'] = pd.to_numeric(pop_df['Year'])"
   ]
  },
  {
   "cell_type": "code",
   "execution_count": 20,
   "metadata": {},
   "outputs": [
    {
     "data": {
      "text/plain": [
       "['Taiwan', 'Eritrea', 'Individual Olympic Athletes']"
      ]
     },
     "execution_count": 20,
     "metadata": {},
     "output_type": "execute_result"
    }
   ],
   "source": [
    "list(set(mpy['Country'].unique()) - set(pop_df['Country'].unique()))"
   ]
  },
  {
   "cell_type": "code",
   "execution_count": 21,
   "metadata": {},
   "outputs": [
    {
     "data": {
      "text/html": [
       "<div>\n",
       "<style scoped>\n",
       "    .dataframe tbody tr th:only-of-type {\n",
       "        vertical-align: middle;\n",
       "    }\n",
       "\n",
       "    .dataframe tbody tr th {\n",
       "        vertical-align: top;\n",
       "    }\n",
       "\n",
       "    .dataframe thead th {\n",
       "        text-align: right;\n",
       "    }\n",
       "</style>\n",
       "<table border=\"1\" class=\"dataframe\">\n",
       "  <thead>\n",
       "    <tr style=\"text-align: right;\">\n",
       "      <th></th>\n",
       "      <th>Country_Year</th>\n",
       "      <th>Medals_won</th>\n",
       "      <th>Country</th>\n",
       "      <th>Year</th>\n",
       "      <th>GDP</th>\n",
       "      <th>Population_Size</th>\n",
       "    </tr>\n",
       "  </thead>\n",
       "  <tbody>\n",
       "    <tr>\n",
       "      <th>0</th>\n",
       "      <td>Finland 2014</td>\n",
       "      <td>5</td>\n",
       "      <td>Finland</td>\n",
       "      <td>2014</td>\n",
       "      <td>2.726093e+11</td>\n",
       "      <td>5.46151e+06</td>\n",
       "    </tr>\n",
       "    <tr>\n",
       "      <th>1</th>\n",
       "      <td>Norway 1992</td>\n",
       "      <td>20</td>\n",
       "      <td>Norway</td>\n",
       "      <td>1992</td>\n",
       "      <td>1.308380e+11</td>\n",
       "      <td>4.2864e+06</td>\n",
       "    </tr>\n",
       "    <tr>\n",
       "      <th>2</th>\n",
       "      <td>Norway 1994</td>\n",
       "      <td>17</td>\n",
       "      <td>Norway</td>\n",
       "      <td>1994</td>\n",
       "      <td>1.271315e+11</td>\n",
       "      <td>4.33661e+06</td>\n",
       "    </tr>\n",
       "  </tbody>\n",
       "</table>\n",
       "</div>"
      ],
      "text/plain": [
       "   Country_Year  Medals_won  Country  Year           GDP Population_Size\n",
       "0  Finland 2014           5  Finland  2014  2.726093e+11     5.46151e+06\n",
       "1   Norway 1992          20   Norway  1992  1.308380e+11      4.2864e+06\n",
       "2   Norway 1994          17   Norway  1994  1.271315e+11     4.33661e+06"
      ]
     },
     "execution_count": 21,
     "metadata": {},
     "output_type": "execute_result"
    }
   ],
   "source": [
    "complete_df = complete_df.merge(pop_df, on=['Year', 'Country'], how='left')\n",
    "complete_df.head(3)"
   ]
  },
  {
   "cell_type": "markdown",
   "metadata": {},
   "source": [
    "#### Adding hdi"
   ]
  },
  {
   "cell_type": "code",
   "execution_count": 22,
   "metadata": {},
   "outputs": [
    {
     "data": {
      "text/html": [
       "<div>\n",
       "<style scoped>\n",
       "    .dataframe tbody tr th:only-of-type {\n",
       "        vertical-align: middle;\n",
       "    }\n",
       "\n",
       "    .dataframe tbody tr th {\n",
       "        vertical-align: top;\n",
       "    }\n",
       "\n",
       "    .dataframe thead th {\n",
       "        text-align: right;\n",
       "    }\n",
       "</style>\n",
       "<table border=\"1\" class=\"dataframe\">\n",
       "  <thead>\n",
       "    <tr style=\"text-align: right;\">\n",
       "      <th></th>\n",
       "      <th>HDI Rank (2018)</th>\n",
       "      <th>Country</th>\n",
       "      <th>1990</th>\n",
       "      <th>1991</th>\n",
       "      <th>1992</th>\n",
       "      <th>1993</th>\n",
       "      <th>1994</th>\n",
       "      <th>1995</th>\n",
       "      <th>1996</th>\n",
       "      <th>1997</th>\n",
       "      <th>...</th>\n",
       "      <th>2010</th>\n",
       "      <th>2011</th>\n",
       "      <th>2012</th>\n",
       "      <th>2013</th>\n",
       "      <th>2014</th>\n",
       "      <th>2015</th>\n",
       "      <th>2016</th>\n",
       "      <th>2017</th>\n",
       "      <th>2018</th>\n",
       "      <th>HDI Rank (2018),Country,1990,1991,1992,1993,1994,1995,1996,1997,1998,1999,2000,2001,2002,2003,2004,2005,2006,2007,2008,2009,2010,2011,2012,2013,2014,2015,2016,2017,2018</th>\n",
       "    </tr>\n",
       "  </thead>\n",
       "  <tbody>\n",
       "    <tr>\n",
       "      <th>0</th>\n",
       "      <td>170</td>\n",
       "      <td>Afghanistan</td>\n",
       "      <td>0.298</td>\n",
       "      <td>0.304</td>\n",
       "      <td>0.312</td>\n",
       "      <td>0.308</td>\n",
       "      <td>0.303</td>\n",
       "      <td>0.327</td>\n",
       "      <td>0.331</td>\n",
       "      <td>0.335</td>\n",
       "      <td>...</td>\n",
       "      <td>0.464</td>\n",
       "      <td>0.465</td>\n",
       "      <td>0.479</td>\n",
       "      <td>0.485</td>\n",
       "      <td>0.488</td>\n",
       "      <td>0.49</td>\n",
       "      <td>0.491</td>\n",
       "      <td>0.493</td>\n",
       "      <td>0.496</td>\n",
       "      <td>170,Afghanistan,0.298,0.304,0.312,0.308,0.303,...</td>\n",
       "    </tr>\n",
       "    <tr>\n",
       "      <th>1</th>\n",
       "      <td>69</td>\n",
       "      <td>Albania</td>\n",
       "      <td>0.644</td>\n",
       "      <td>0.625</td>\n",
       "      <td>0.608</td>\n",
       "      <td>0.611</td>\n",
       "      <td>0.617</td>\n",
       "      <td>0.629</td>\n",
       "      <td>0.639</td>\n",
       "      <td>0.639</td>\n",
       "      <td>...</td>\n",
       "      <td>0.74</td>\n",
       "      <td>0.759</td>\n",
       "      <td>0.771</td>\n",
       "      <td>0.781</td>\n",
       "      <td>0.787</td>\n",
       "      <td>0.788</td>\n",
       "      <td>0.788</td>\n",
       "      <td>0.789</td>\n",
       "      <td>0.791</td>\n",
       "      <td>69,Albania,0.644,0.625,0.608,0.611,0.617,0.629...</td>\n",
       "    </tr>\n",
       "    <tr>\n",
       "      <th>2</th>\n",
       "      <td>82</td>\n",
       "      <td>Algeria</td>\n",
       "      <td>0.578</td>\n",
       "      <td>0.582</td>\n",
       "      <td>0.589</td>\n",
       "      <td>0.593</td>\n",
       "      <td>0.597</td>\n",
       "      <td>0.602</td>\n",
       "      <td>0.61</td>\n",
       "      <td>0.619</td>\n",
       "      <td>...</td>\n",
       "      <td>0.73</td>\n",
       "      <td>0.738</td>\n",
       "      <td>0.737</td>\n",
       "      <td>0.746</td>\n",
       "      <td>0.749</td>\n",
       "      <td>0.751</td>\n",
       "      <td>0.755</td>\n",
       "      <td>0.758</td>\n",
       "      <td>0.759</td>\n",
       "      <td>82,Algeria,0.578,0.582,0.589,0.593,0.597,0.602...</td>\n",
       "    </tr>\n",
       "    <tr>\n",
       "      <th>3</th>\n",
       "      <td>36</td>\n",
       "      <td>Andorra</td>\n",
       "      <td>..</td>\n",
       "      <td>..</td>\n",
       "      <td>..</td>\n",
       "      <td>..</td>\n",
       "      <td>..</td>\n",
       "      <td>..</td>\n",
       "      <td>..</td>\n",
       "      <td>..</td>\n",
       "      <td>...</td>\n",
       "      <td>0.828</td>\n",
       "      <td>0.827</td>\n",
       "      <td>0.849</td>\n",
       "      <td>0.846</td>\n",
       "      <td>0.853</td>\n",
       "      <td>0.85</td>\n",
       "      <td>0.854</td>\n",
       "      <td>0.852</td>\n",
       "      <td>0.857</td>\n",
       "      <td>36,Andorra,..,..,..,..,..,..,..,..,..,..,0.759...</td>\n",
       "    </tr>\n",
       "    <tr>\n",
       "      <th>4</th>\n",
       "      <td>149</td>\n",
       "      <td>Angola</td>\n",
       "      <td>..</td>\n",
       "      <td>..</td>\n",
       "      <td>..</td>\n",
       "      <td>..</td>\n",
       "      <td>..</td>\n",
       "      <td>..</td>\n",
       "      <td>..</td>\n",
       "      <td>..</td>\n",
       "      <td>...</td>\n",
       "      <td>0.51</td>\n",
       "      <td>0.525</td>\n",
       "      <td>0.537</td>\n",
       "      <td>0.547</td>\n",
       "      <td>0.557</td>\n",
       "      <td>0.565</td>\n",
       "      <td>0.57</td>\n",
       "      <td>0.576</td>\n",
       "      <td>0.574</td>\n",
       "      <td>149,Angola,..,..,..,..,..,..,..,..,..,0.384,0....</td>\n",
       "    </tr>\n",
       "  </tbody>\n",
       "</table>\n",
       "<p>5 rows × 32 columns</p>\n",
       "</div>"
      ],
      "text/plain": [
       "  HDI Rank (2018)      Country   1990   1991   1992   1993   1994   1995  \\\n",
       "0             170  Afghanistan  0.298  0.304  0.312  0.308  0.303  0.327   \n",
       "1              69      Albania  0.644  0.625  0.608  0.611  0.617  0.629   \n",
       "2              82      Algeria  0.578  0.582  0.589  0.593  0.597  0.602   \n",
       "3              36      Andorra     ..     ..     ..     ..     ..     ..   \n",
       "4             149       Angola     ..     ..     ..     ..     ..     ..   \n",
       "\n",
       "    1996   1997  ...   2010   2011   2012   2013   2014   2015   2016   2017  \\\n",
       "0  0.331  0.335  ...  0.464  0.465  0.479  0.485  0.488   0.49  0.491  0.493   \n",
       "1  0.639  0.639  ...   0.74  0.759  0.771  0.781  0.787  0.788  0.788  0.789   \n",
       "2   0.61  0.619  ...   0.73  0.738  0.737  0.746  0.749  0.751  0.755  0.758   \n",
       "3     ..     ..  ...  0.828  0.827  0.849  0.846  0.853   0.85  0.854  0.852   \n",
       "4     ..     ..  ...   0.51  0.525  0.537  0.547  0.557  0.565   0.57  0.576   \n",
       "\n",
       "    2018  \\\n",
       "0  0.496   \n",
       "1  0.791   \n",
       "2  0.759   \n",
       "3  0.857   \n",
       "4  0.574   \n",
       "\n",
       "  HDI Rank (2018),Country,1990,1991,1992,1993,1994,1995,1996,1997,1998,1999,2000,2001,2002,2003,2004,2005,2006,2007,2008,2009,2010,2011,2012,2013,2014,2015,2016,2017,2018  \n",
       "0  170,Afghanistan,0.298,0.304,0.312,0.308,0.303,...                                                                                                                        \n",
       "1  69,Albania,0.644,0.625,0.608,0.611,0.617,0.629...                                                                                                                        \n",
       "2  82,Algeria,0.578,0.582,0.589,0.593,0.597,0.602...                                                                                                                        \n",
       "3  36,Andorra,..,..,..,..,..,..,..,..,..,..,0.759...                                                                                                                        \n",
       "4  149,Angola,..,..,..,..,..,..,..,..,..,0.384,0....                                                                                                                        \n",
       "\n",
       "[5 rows x 32 columns]"
      ]
     },
     "execution_count": 22,
     "metadata": {},
     "output_type": "execute_result"
    }
   ],
   "source": [
    "HDI_df.head()"
   ]
  },
  {
   "cell_type": "code",
   "execution_count": 23,
   "metadata": {},
   "outputs": [],
   "source": [
    "HDI_df = HDI_df.drop(['HDI Rank (2018)', 'HDI Rank (2018),Country,1990,1991,1992,1993,1994,1995,1996,1997,1998,1999,2000,2001,2002,2003,2004,2005,2006,2007,2008,2009,2010,2011,2012,2013,2014,2015,2016,2017,2018'], axis=1)\n",
    "HDI_df = pd.melt(HDI_df, id_vars = ['Country'], var_name = 'Year', value_name = 'HDI')\n",
    "HDI_df = HDI_df[:5957]\n",
    "HDI_df['Year'] = pd.to_numeric(HDI_df['Year'])\n",
    "HDI_df = HDI_df[HDI_df.HDI != \"..\"]"
   ]
  },
  {
   "cell_type": "code",
   "execution_count": 24,
   "metadata": {},
   "outputs": [
    {
     "data": {
      "text/plain": [
       "['Virgin Islands, US',\n",
       " 'Bermuda',\n",
       " 'Individual Olympic Athletes',\n",
       " 'North Korea',\n",
       " 'Taiwan',\n",
       " 'Puerto Rico',\n",
       " 'Kosovo',\n",
       " 'Macedonia',\n",
       " 'Curacao']"
      ]
     },
     "execution_count": 24,
     "metadata": {},
     "output_type": "execute_result"
    }
   ],
   "source": [
    "list(set(mpy['Country'].unique()) - set(HDI_df['Country'].unique()))"
   ]
  },
  {
   "cell_type": "code",
   "execution_count": 25,
   "metadata": {},
   "outputs": [
    {
     "data": {
      "text/html": [
       "<div>\n",
       "<style scoped>\n",
       "    .dataframe tbody tr th:only-of-type {\n",
       "        vertical-align: middle;\n",
       "    }\n",
       "\n",
       "    .dataframe tbody tr th {\n",
       "        vertical-align: top;\n",
       "    }\n",
       "\n",
       "    .dataframe thead th {\n",
       "        text-align: right;\n",
       "    }\n",
       "</style>\n",
       "<table border=\"1\" class=\"dataframe\">\n",
       "  <thead>\n",
       "    <tr style=\"text-align: right;\">\n",
       "      <th></th>\n",
       "      <th>Country_Year</th>\n",
       "      <th>Medals_won</th>\n",
       "      <th>Country</th>\n",
       "      <th>Year</th>\n",
       "      <th>GDP</th>\n",
       "      <th>Population_Size</th>\n",
       "      <th>HDI</th>\n",
       "    </tr>\n",
       "  </thead>\n",
       "  <tbody>\n",
       "    <tr>\n",
       "      <th>0</th>\n",
       "      <td>Finland 2014</td>\n",
       "      <td>5</td>\n",
       "      <td>Finland</td>\n",
       "      <td>2014</td>\n",
       "      <td>2.726093e+11</td>\n",
       "      <td>5.46151e+06</td>\n",
       "      <td>0.918</td>\n",
       "    </tr>\n",
       "    <tr>\n",
       "      <th>1</th>\n",
       "      <td>Norway 1992</td>\n",
       "      <td>20</td>\n",
       "      <td>Norway</td>\n",
       "      <td>1992</td>\n",
       "      <td>1.308380e+11</td>\n",
       "      <td>4.2864e+06</td>\n",
       "      <td>0.862</td>\n",
       "    </tr>\n",
       "    <tr>\n",
       "      <th>2</th>\n",
       "      <td>Norway 1994</td>\n",
       "      <td>17</td>\n",
       "      <td>Norway</td>\n",
       "      <td>1994</td>\n",
       "      <td>1.271315e+11</td>\n",
       "      <td>4.33661e+06</td>\n",
       "      <td>0.885</td>\n",
       "    </tr>\n",
       "  </tbody>\n",
       "</table>\n",
       "</div>"
      ],
      "text/plain": [
       "   Country_Year  Medals_won  Country  Year           GDP Population_Size  \\\n",
       "0  Finland 2014           5  Finland  2014  2.726093e+11     5.46151e+06   \n",
       "1   Norway 1992          20   Norway  1992  1.308380e+11      4.2864e+06   \n",
       "2   Norway 1994          17   Norway  1994  1.271315e+11     4.33661e+06   \n",
       "\n",
       "     HDI  \n",
       "0  0.918  \n",
       "1  0.862  \n",
       "2  0.885  "
      ]
     },
     "execution_count": 25,
     "metadata": {},
     "output_type": "execute_result"
    }
   ],
   "source": [
    "complete_df = complete_df.merge(HDI_df, on=['Year', 'Country'], how='left')\n",
    "complete_df.head(3)"
   ]
  },
  {
   "cell_type": "markdown",
   "metadata": {},
   "source": [
    "#### Final touches to the dataset"
   ]
  },
  {
   "cell_type": "markdown",
   "metadata": {},
   "source": [
    "Finally, we create the final dataset, which only differs from the previous one for the type of some of its column, a change that was necessary to implement the linear regression later on."
   ]
  },
  {
   "cell_type": "code",
   "execution_count": 26,
   "metadata": {},
   "outputs": [
    {
     "name": "stdout",
     "output_type": "stream",
     "text": [
      "<class 'pandas.core.frame.DataFrame'>\n",
      "Int64Index: 1062 entries, 0 to 1061\n",
      "Data columns (total 7 columns):\n",
      " #   Column           Non-Null Count  Dtype  \n",
      "---  ------           --------------  -----  \n",
      " 0   Country_Year     1062 non-null   object \n",
      " 1   Medals_won       1062 non-null   int64  \n",
      " 2   Country          1062 non-null   object \n",
      " 3   Year             1062 non-null   int64  \n",
      " 4   GDP              957 non-null    float64\n",
      " 5   Population_Size  1041 non-null   float64\n",
      " 6   HDI              664 non-null    float64\n",
      "dtypes: float64(3), int64(2), object(2)\n",
      "memory usage: 58.1+ KB\n"
     ]
    }
   ],
   "source": [
    "d = complete_df\n",
    "d['Population_Size'] = pd.to_numeric(d['Population_Size'])\n",
    "d['HDI'] = pd.to_numeric(d['HDI'])\n",
    "d.info()"
   ]
  },
  {
   "cell_type": "markdown",
   "metadata": {},
   "source": [
    "At this point, we also get rid of all na values that are present in the dataset and reset the index."
   ]
  },
  {
   "cell_type": "code",
   "execution_count": 27,
   "metadata": {},
   "outputs": [
    {
     "data": {
      "text/html": [
       "<div>\n",
       "<style scoped>\n",
       "    .dataframe tbody tr th:only-of-type {\n",
       "        vertical-align: middle;\n",
       "    }\n",
       "\n",
       "    .dataframe tbody tr th {\n",
       "        vertical-align: top;\n",
       "    }\n",
       "\n",
       "    .dataframe thead th {\n",
       "        text-align: right;\n",
       "    }\n",
       "</style>\n",
       "<table border=\"1\" class=\"dataframe\">\n",
       "  <thead>\n",
       "    <tr style=\"text-align: right;\">\n",
       "      <th></th>\n",
       "      <th>Country_Year</th>\n",
       "      <th>Medals_won</th>\n",
       "      <th>Country</th>\n",
       "      <th>Year</th>\n",
       "      <th>GDP</th>\n",
       "      <th>Population_Size</th>\n",
       "      <th>HDI</th>\n",
       "    </tr>\n",
       "  </thead>\n",
       "  <tbody>\n",
       "    <tr>\n",
       "      <th>0</th>\n",
       "      <td>Finland 2014</td>\n",
       "      <td>5</td>\n",
       "      <td>Finland</td>\n",
       "      <td>2014</td>\n",
       "      <td>2.726093e+11</td>\n",
       "      <td>5461512.0</td>\n",
       "      <td>0.918</td>\n",
       "    </tr>\n",
       "    <tr>\n",
       "      <th>1</th>\n",
       "      <td>Norway 1992</td>\n",
       "      <td>20</td>\n",
       "      <td>Norway</td>\n",
       "      <td>1992</td>\n",
       "      <td>1.308380e+11</td>\n",
       "      <td>4286401.0</td>\n",
       "      <td>0.862</td>\n",
       "    </tr>\n",
       "    <tr>\n",
       "      <th>2</th>\n",
       "      <td>Norway 1994</td>\n",
       "      <td>17</td>\n",
       "      <td>Norway</td>\n",
       "      <td>1994</td>\n",
       "      <td>1.271315e+11</td>\n",
       "      <td>4336613.0</td>\n",
       "      <td>0.885</td>\n",
       "    </tr>\n",
       "    <tr>\n",
       "      <th>3</th>\n",
       "      <td>Norway 2002</td>\n",
       "      <td>24</td>\n",
       "      <td>Norway</td>\n",
       "      <td>2002</td>\n",
       "      <td>1.954183e+11</td>\n",
       "      <td>4538159.0</td>\n",
       "      <td>0.918</td>\n",
       "    </tr>\n",
       "    <tr>\n",
       "      <th>4</th>\n",
       "      <td>Norway 2006</td>\n",
       "      <td>15</td>\n",
       "      <td>Norway</td>\n",
       "      <td>2006</td>\n",
       "      <td>3.454247e+11</td>\n",
       "      <td>4660677.0</td>\n",
       "      <td>0.936</td>\n",
       "    </tr>\n",
       "    <tr>\n",
       "      <th>...</th>\n",
       "      <td>...</td>\n",
       "      <td>...</td>\n",
       "      <td>...</td>\n",
       "      <td>...</td>\n",
       "      <td>...</td>\n",
       "      <td>...</td>\n",
       "      <td>...</td>\n",
       "    </tr>\n",
       "    <tr>\n",
       "      <th>650</th>\n",
       "      <td>UK 2010</td>\n",
       "      <td>1</td>\n",
       "      <td>UK</td>\n",
       "      <td>2010</td>\n",
       "      <td>2.441173e+12</td>\n",
       "      <td>62766365.0</td>\n",
       "      <td>0.905</td>\n",
       "    </tr>\n",
       "    <tr>\n",
       "      <th>651</th>\n",
       "      <td>Tonga 1996</td>\n",
       "      <td>1</td>\n",
       "      <td>Tonga</td>\n",
       "      <td>1996</td>\n",
       "      <td>2.195836e+08</td>\n",
       "      <td>96369.0</td>\n",
       "      <td>0.667</td>\n",
       "    </tr>\n",
       "    <tr>\n",
       "      <th>652</th>\n",
       "      <td>Uruguay 2000</td>\n",
       "      <td>1</td>\n",
       "      <td>Uruguay</td>\n",
       "      <td>2000</td>\n",
       "      <td>2.282326e+10</td>\n",
       "      <td>3321245.0</td>\n",
       "      <td>0.742</td>\n",
       "    </tr>\n",
       "    <tr>\n",
       "      <th>653</th>\n",
       "      <td>Slovakia 2006</td>\n",
       "      <td>1</td>\n",
       "      <td>Slovakia</td>\n",
       "      <td>2006</td>\n",
       "      <td>7.059673e+10</td>\n",
       "      <td>5373054.0</td>\n",
       "      <td>0.803</td>\n",
       "    </tr>\n",
       "    <tr>\n",
       "      <th>654</th>\n",
       "      <td>Israel 2008</td>\n",
       "      <td>1</td>\n",
       "      <td>Israel</td>\n",
       "      <td>2008</td>\n",
       "      <td>2.158404e+11</td>\n",
       "      <td>7308800.0</td>\n",
       "      <td>0.880</td>\n",
       "    </tr>\n",
       "  </tbody>\n",
       "</table>\n",
       "<p>655 rows × 7 columns</p>\n",
       "</div>"
      ],
      "text/plain": [
       "      Country_Year  Medals_won   Country  Year           GDP  Population_Size  \\\n",
       "0     Finland 2014           5   Finland  2014  2.726093e+11        5461512.0   \n",
       "1      Norway 1992          20    Norway  1992  1.308380e+11        4286401.0   \n",
       "2      Norway 1994          17    Norway  1994  1.271315e+11        4336613.0   \n",
       "3      Norway 2002          24    Norway  2002  1.954183e+11        4538159.0   \n",
       "4      Norway 2006          15    Norway  2006  3.454247e+11        4660677.0   \n",
       "..             ...         ...       ...   ...           ...              ...   \n",
       "650        UK 2010           1        UK  2010  2.441173e+12       62766365.0   \n",
       "651     Tonga 1996           1     Tonga  1996  2.195836e+08          96369.0   \n",
       "652   Uruguay 2000           1   Uruguay  2000  2.282326e+10        3321245.0   \n",
       "653  Slovakia 2006           1  Slovakia  2006  7.059673e+10        5373054.0   \n",
       "654    Israel 2008           1    Israel  2008  2.158404e+11        7308800.0   \n",
       "\n",
       "       HDI  \n",
       "0    0.918  \n",
       "1    0.862  \n",
       "2    0.885  \n",
       "3    0.918  \n",
       "4    0.936  \n",
       "..     ...  \n",
       "650  0.905  \n",
       "651  0.667  \n",
       "652  0.742  \n",
       "653  0.803  \n",
       "654  0.880  \n",
       "\n",
       "[655 rows x 7 columns]"
      ]
     },
     "execution_count": 27,
     "metadata": {},
     "output_type": "execute_result"
    }
   ],
   "source": [
    "d = d[d['GDP'].notna()]\n",
    "d = d[d['Population_Size'].notna()]\n",
    "d = d[d['HDI'].notna()]\n",
    "d = d.reset_index()\n",
    "d = d.drop([\"index\"], axis=1)\n",
    "d"
   ]
  },
  {
   "cell_type": "markdown",
   "metadata": {},
   "source": [
    "This is our final dataset. We are now ready to work on the regression models."
   ]
  },
  {
   "cell_type": "markdown",
   "metadata": {},
   "source": [
    "### Linear Regression"
   ]
  },
  {
   "cell_type": "markdown",
   "metadata": {},
   "source": [
    "Firstly, we try to apply the linear regression to the whole dataframe."
   ]
  },
  {
   "cell_type": "markdown",
   "metadata": {},
   "source": [
    "#### Medals won - GDP"
   ]
  },
  {
   "cell_type": "code",
   "execution_count": 28,
   "metadata": {},
   "outputs": [
    {
     "data": {
      "image/png": "[encoded data removed]",
      "text/plain": [
       "<Figure size 432x288 with 1 Axes>"
      ]
     },
     "metadata": {
      "needs_background": "light"
     },
     "output_type": "display_data"
    }
   ],
   "source": [
    "x = d['Medals_won']\n",
    "p = d['GDP']\n",
    "x=x.to_numpy()\n",
    "p=p.to_numpy()\n",
    "x=x.reshape(-1,1)\n",
    "p=p.reshape(-1,1)\n",
    "linear_regressor = LinearRegression()  # create object for the class\n",
    "linear_regressor.fit(x, p)  # perform linear regression\n",
    "Y_pred = linear_regressor.predict(x)  # make predictions\n",
    "plt.scatter(x, p)\n",
    "plt.plot(x, Y_pred, color='red')\n",
    "plt.title('R^2 = 0.301')\n",
    "plt.xlabel('Total number of medals won')\n",
    "plt.ylabel('GDP')\n",
    "plt.show()"
   ]
  },
  {
   "cell_type": "code",
   "execution_count": 29,
   "metadata": {},
   "outputs": [
    {
     "name": "stdout",
     "output_type": "stream",
     "text": [
      "the coefficient is:  [[7.12126957e+10]]\n",
      "the intercept is:  [3.77604283e+10]\n",
      "the R^2 is: 0.30057360871339833\n"
     ]
    }
   ],
   "source": [
    "print(\"the coefficient is: \",linear_regressor.coef_)\n",
    "print(\"the intercept is: \",linear_regressor.intercept_)\n",
    "print(\"the R^2 is:\",linear_regressor.score(x,p))"
   ]
  },
  {
   "cell_type": "markdown",
   "metadata": {},
   "source": [
    "#### Medals won - Population size"
   ]
  },
  {
   "cell_type": "code",
   "execution_count": 30,
   "metadata": {},
   "outputs": [
    {
     "data": {
      "image/png": "[encoded data removed]",
      "text/plain": [
       "<Figure size 432x288 with 1 Axes>"
      ]
     },
     "metadata": {
      "needs_background": "light"
     },
     "output_type": "display_data"
    }
   ],
   "source": [
    "x = d['Medals_won']\n",
    "p = d['Population_Size']\n",
    "x=x.to_numpy()\n",
    "p=p.to_numpy()\n",
    "x=x.reshape(-1,1)\n",
    "p=p.reshape(-1,1)\n",
    "linear_regressor = LinearRegression()  \n",
    "linear_regressor.fit(x, p)  \n",
    "Y_pred = linear_regressor.predict(x)  \n",
    "plt.scatter(x, p)\n",
    "plt.plot(x, Y_pred, color='red')\n",
    "plt.title('R^2 = 0.075')\n",
    "plt.xlabel('Total number of medals won')\n",
    "plt.ylabel('Population size')\n",
    "plt.show()"
   ]
  },
  {
   "cell_type": "code",
   "execution_count": 31,
   "metadata": {},
   "outputs": [
    {
     "name": "stdout",
     "output_type": "stream",
     "text": [
      "the coefficient is:  [[3643630.60843405]]\n",
      "the intercept is:  [33872774.28473325]\n",
      "the R^2 is: 0.07520538315997538\n"
     ]
    }
   ],
   "source": [
    "print(\"the coefficient is: \",linear_regressor.coef_)\n",
    "print(\"the intercept is: \",linear_regressor.intercept_)\n",
    "print(\"the R^2 is:\",linear_regressor.score(x,p))"
   ]
  },
  {
   "cell_type": "markdown",
   "metadata": {},
   "source": [
    "#### Medals won - HDI"
   ]
  },
  {
   "cell_type": "code",
   "execution_count": 32,
   "metadata": {},
   "outputs": [
    {
     "data": {
      "image/png": "[encoded data removed]",
      "text/plain": [
       "<Figure size 432x288 with 1 Axes>"
      ]
     },
     "metadata": {
      "needs_background": "light"
     },
     "output_type": "display_data"
    }
   ],
   "source": [
    "x = d['Medals_won']\n",
    "p = d['HDI']\n",
    "x=x.to_numpy()\n",
    "p=p.to_numpy()\n",
    "x=x.reshape(-1,1)\n",
    "p=p.reshape(-1,1)\n",
    "linear_regressor = LinearRegression()  \n",
    "linear_regressor.fit(x, p)  \n",
    "Y_pred = linear_regressor.predict(x)  \n",
    "plt.scatter(x, p)\n",
    "plt.plot(x, Y_pred, color='red')\n",
    "plt.title('R^2 = 0.052')\n",
    "plt.xlabel('Total number of medals won')\n",
    "plt.ylabel('HDI')\n",
    "plt.show()"
   ]
  },
  {
   "cell_type": "code",
   "execution_count": 33,
   "metadata": {},
   "outputs": [
    {
     "name": "stdout",
     "output_type": "stream",
     "text": [
      "the coefficient is:  [[0.00183433]]\n",
      "the intercept is:  [0.74691589]\n",
      "the R^2 is: 0.05240689700548151\n"
     ]
    }
   ],
   "source": [
    "print(\"the coefficient is: \",linear_regressor.coef_)\n",
    "print(\"the intercept is: \",linear_regressor.intercept_)\n",
    "print(\"the R^2 is:\",linear_regressor.score(x,p))"
   ]
  },
  {
   "cell_type": "markdown",
   "metadata": {},
   "source": [
    "Of course, this does not yield very interesting results. This happens because the entire dataframe includes the same countries multiple times, once for each time they participated in the olympic games."
   ]
  },
  {
   "cell_type": "markdown",
   "metadata": {},
   "source": [
    "### Beijing 2008"
   ]
  },
  {
   "cell_type": "markdown",
   "metadata": {},
   "source": [
    "For this reason, we decided to apply the linear regression to one olympic game at a time. We start by looking at the Beijing games of 2008."
   ]
  },
  {
   "cell_type": "code",
   "execution_count": 34,
   "metadata": {},
   "outputs": [
    {
     "data": {
      "text/html": [
       "<div>\n",
       "<style scoped>\n",
       "    .dataframe tbody tr th:only-of-type {\n",
       "        vertical-align: middle;\n",
       "    }\n",
       "\n",
       "    .dataframe tbody tr th {\n",
       "        vertical-align: top;\n",
       "    }\n",
       "\n",
       "    .dataframe thead th {\n",
       "        text-align: right;\n",
       "    }\n",
       "</style>\n",
       "<table border=\"1\" class=\"dataframe\">\n",
       "  <thead>\n",
       "    <tr style=\"text-align: right;\">\n",
       "      <th></th>\n",
       "      <th>Country_Year</th>\n",
       "      <th>Medals_won</th>\n",
       "      <th>Country</th>\n",
       "      <th>Year</th>\n",
       "      <th>GDP</th>\n",
       "      <th>Population_Size</th>\n",
       "      <th>HDI</th>\n",
       "    </tr>\n",
       "  </thead>\n",
       "  <tbody>\n",
       "    <tr>\n",
       "      <th>5</th>\n",
       "      <td>Norway 2008</td>\n",
       "      <td>9</td>\n",
       "      <td>Norway</td>\n",
       "      <td>2008</td>\n",
       "      <td>4.625544e+11</td>\n",
       "      <td>4768212.0</td>\n",
       "      <td>0.938</td>\n",
       "    </tr>\n",
       "    <tr>\n",
       "      <th>9</th>\n",
       "      <td>Spain 2008</td>\n",
       "      <td>18</td>\n",
       "      <td>Spain</td>\n",
       "      <td>2008</td>\n",
       "      <td>1.635015e+12</td>\n",
       "      <td>45954106.0</td>\n",
       "      <td>0.856</td>\n",
       "    </tr>\n",
       "    <tr>\n",
       "      <th>11</th>\n",
       "      <td>Russia 2008</td>\n",
       "      <td>66</td>\n",
       "      <td>Russia</td>\n",
       "      <td>2008</td>\n",
       "      <td>1.660844e+12</td>\n",
       "      <td>142742350.0</td>\n",
       "      <td>0.774</td>\n",
       "    </tr>\n",
       "    <tr>\n",
       "      <th>12</th>\n",
       "      <td>Belarus 2008</td>\n",
       "      <td>16</td>\n",
       "      <td>Belarus</td>\n",
       "      <td>2008</td>\n",
       "      <td>6.076348e+10</td>\n",
       "      <td>9527985.0</td>\n",
       "      <td>0.774</td>\n",
       "    </tr>\n",
       "    <tr>\n",
       "      <th>13</th>\n",
       "      <td>France 2008</td>\n",
       "      <td>38</td>\n",
       "      <td>France</td>\n",
       "      <td>2008</td>\n",
       "      <td>2.923466e+12</td>\n",
       "      <td>64374990.0</td>\n",
       "      <td>0.869</td>\n",
       "    </tr>\n",
       "    <tr>\n",
       "      <th>...</th>\n",
       "      <td>...</td>\n",
       "      <td>...</td>\n",
       "      <td>...</td>\n",
       "      <td>...</td>\n",
       "      <td>...</td>\n",
       "      <td>...</td>\n",
       "      <td>...</td>\n",
       "    </tr>\n",
       "    <tr>\n",
       "      <th>602</th>\n",
       "      <td>Croatia 2008</td>\n",
       "      <td>5</td>\n",
       "      <td>Croatia</td>\n",
       "      <td>2008</td>\n",
       "      <td>7.048145e+10</td>\n",
       "      <td>4434508.0</td>\n",
       "      <td>0.805</td>\n",
       "    </tr>\n",
       "    <tr>\n",
       "      <th>604</th>\n",
       "      <td>Ecuador 2008</td>\n",
       "      <td>1</td>\n",
       "      <td>Ecuador</td>\n",
       "      <td>2008</td>\n",
       "      <td>6.176264e+10</td>\n",
       "      <td>14447562.0</td>\n",
       "      <td>0.711</td>\n",
       "    </tr>\n",
       "    <tr>\n",
       "      <th>619</th>\n",
       "      <td>Colombia 2008</td>\n",
       "      <td>2</td>\n",
       "      <td>Colombia</td>\n",
       "      <td>2008</td>\n",
       "      <td>2.439824e+11</td>\n",
       "      <td>44901544.0</td>\n",
       "      <td>0.720</td>\n",
       "    </tr>\n",
       "    <tr>\n",
       "      <th>626</th>\n",
       "      <td>Panama 2008</td>\n",
       "      <td>1</td>\n",
       "      <td>Panama</td>\n",
       "      <td>2008</td>\n",
       "      <td>2.452220e+10</td>\n",
       "      <td>3516268.0</td>\n",
       "      <td>0.755</td>\n",
       "    </tr>\n",
       "    <tr>\n",
       "      <th>654</th>\n",
       "      <td>Israel 2008</td>\n",
       "      <td>1</td>\n",
       "      <td>Israel</td>\n",
       "      <td>2008</td>\n",
       "      <td>2.158404e+11</td>\n",
       "      <td>7308800.0</td>\n",
       "      <td>0.880</td>\n",
       "    </tr>\n",
       "  </tbody>\n",
       "</table>\n",
       "<p>84 rows × 7 columns</p>\n",
       "</div>"
      ],
      "text/plain": [
       "      Country_Year  Medals_won   Country  Year           GDP  Population_Size  \\\n",
       "5      Norway 2008           9    Norway  2008  4.625544e+11        4768212.0   \n",
       "9       Spain 2008          18     Spain  2008  1.635015e+12       45954106.0   \n",
       "11     Russia 2008          66    Russia  2008  1.660844e+12      142742350.0   \n",
       "12    Belarus 2008          16   Belarus  2008  6.076348e+10        9527985.0   \n",
       "13     France 2008          38    France  2008  2.923466e+12       64374990.0   \n",
       "..             ...         ...       ...   ...           ...              ...   \n",
       "602   Croatia 2008           5   Croatia  2008  7.048145e+10        4434508.0   \n",
       "604   Ecuador 2008           1   Ecuador  2008  6.176264e+10       14447562.0   \n",
       "619  Colombia 2008           2  Colombia  2008  2.439824e+11       44901544.0   \n",
       "626    Panama 2008           1    Panama  2008  2.452220e+10        3516268.0   \n",
       "654    Israel 2008           1    Israel  2008  2.158404e+11        7308800.0   \n",
       "\n",
       "       HDI  \n",
       "5    0.938  \n",
       "9    0.856  \n",
       "11   0.774  \n",
       "12   0.774  \n",
       "13   0.869  \n",
       "..     ...  \n",
       "602  0.805  \n",
       "604  0.711  \n",
       "619  0.720  \n",
       "626  0.755  \n",
       "654  0.880  \n",
       "\n",
       "[84 rows x 7 columns]"
      ]
     },
     "execution_count": 34,
     "metadata": {},
     "output_type": "execute_result"
    }
   ],
   "source": [
    "b = d[d['Year'] == 2008]\n",
    "b"
   ]
  },
  {
   "cell_type": "markdown",
   "metadata": {},
   "source": [
    "#### Medals won - GDP"
   ]
  },
  {
   "cell_type": "code",
   "execution_count": 35,
   "metadata": {},
   "outputs": [
    {
     "data": {
      "image/png": "[encoded data removed]",
      "text/plain": [
       "<Figure size 432x288 with 1 Axes>"
      ]
     },
     "metadata": {
      "needs_background": "light"
     },
     "output_type": "display_data"
    }
   ],
   "source": [
    "x = b['Medals_won']\n",
    "p = b['GDP']\n",
    "x=x.to_numpy()\n",
    "p=p.to_numpy()\n",
    "x=x.reshape(-1,1)\n",
    "p=p.reshape(-1,1)\n",
    "linear_regressor = LinearRegression()  \n",
    "linear_regressor.fit(x, p)  \n",
    "Y_pred = linear_regressor.predict(x)  \n",
    "plt.scatter(x, p)\n",
    "plt.plot(x, Y_pred, color='red')\n",
    "plt.title('R^2 = 0.625')\n",
    "plt.xlabel('Total number of medals won')\n",
    "plt.ylabel('GDP')\n",
    "plt.show()"
   ]
  },
  {
   "cell_type": "code",
   "execution_count": 36,
   "metadata": {},
   "outputs": [
    {
     "name": "stdout",
     "output_type": "stream",
     "text": [
      "the coefficient is:  [[8.52136376e+10]]\n",
      "the intercept is:  [-1.83264464e+11]\n",
      "the R^2 is: 0.6250596335038993\n"
     ]
    }
   ],
   "source": [
    "print(\"the coefficient is: \",linear_regressor.coef_)\n",
    "print(\"the intercept is: \",linear_regressor.intercept_)\n",
    "print(\"the R^2 is:\",linear_regressor.score(x,p))"
   ]
  },
  {
   "cell_type": "markdown",
   "metadata": {},
   "source": [
    "#### Medals won - Population size"
   ]
  },
  {
   "cell_type": "code",
   "execution_count": 37,
   "metadata": {},
   "outputs": [
    {
     "data": {
      "image/png": "[encoded data removed]",
      "text/plain": [
       "<Figure size 432x288 with 1 Axes>"
      ]
     },
     "metadata": {
      "needs_background": "light"
     },
     "output_type": "display_data"
    }
   ],
   "source": [
    "x = b['Medals_won']\n",
    "p = b['Population_Size']\n",
    "x=x.to_numpy()\n",
    "p=p.to_numpy()\n",
    "x=x.reshape(-1,1)\n",
    "p=p.reshape(-1,1)\n",
    "linear_regressor = LinearRegression()  \n",
    "linear_regressor.fit(x, p)  \n",
    "Y_pred = linear_regressor.predict(x)  \n",
    "plt.scatter(x, p)\n",
    "plt.plot(x, Y_pred, color='red')\n",
    "plt.title('R^2 = 0.204')\n",
    "plt.xlabel('Total number of medals won')\n",
    "plt.ylabel('Population size')\n",
    "plt.show()"
   ]
  },
  {
   "cell_type": "code",
   "execution_count": 38,
   "metadata": {},
   "outputs": [
    {
     "name": "stdout",
     "output_type": "stream",
     "text": [
      "the coefficient is:  [[5195169.04808747]]\n",
      "the intercept is:  [10911962.66646458]\n",
      "the R^2 is: 0.20382487429743723\n"
     ]
    }
   ],
   "source": [
    "print(\"the coefficient is: \",linear_regressor.coef_)\n",
    "print(\"the intercept is: \",linear_regressor.intercept_)\n",
    "print(\"the R^2 is:\",linear_regressor.score(x,p))"
   ]
  },
  {
   "cell_type": "markdown",
   "metadata": {},
   "source": [
    "#### Medals won - HDI"
   ]
  },
  {
   "cell_type": "code",
   "execution_count": 39,
   "metadata": {},
   "outputs": [
    {
     "data": {
      "image/png": "[encoded data removed]",
      "text/plain": [
       "<Figure size 432x288 with 1 Axes>"
      ]
     },
     "metadata": {
      "needs_background": "light"
     },
     "output_type": "display_data"
    }
   ],
   "source": [
    "x = b['Medals_won']\n",
    "p = b['HDI']\n",
    "x=x.to_numpy()\n",
    "p=p.to_numpy()\n",
    "x=x.reshape(-1,1)\n",
    "p=p.reshape(-1,1)\n",
    "linear_regressor = LinearRegression()  \n",
    "linear_regressor.fit(x, p)  \n",
    "Y_pred = linear_regressor.predict(x)  \n",
    "plt.scatter(x, p)\n",
    "plt.plot(x, Y_pred, color='red')\n",
    "plt.title('R^2 = 0.067')\n",
    "plt.xlabel('Total number of medals won')\n",
    "plt.ylabel('HDI')\n",
    "plt.show()"
   ]
  },
  {
   "cell_type": "code",
   "execution_count": 40,
   "metadata": {
    "scrolled": true
   },
   "outputs": [
    {
     "name": "stdout",
     "output_type": "stream",
     "text": [
      "the coefficient is:  [[0.00201679]]\n",
      "the intercept is:  [0.73518124]\n",
      "the R^2 is: 0.0671544746373629\n"
     ]
    }
   ],
   "source": [
    "print(\"the coefficient is: \",linear_regressor.coef_)\n",
    "print(\"the intercept is: \",linear_regressor.intercept_)\n",
    "print(\"the R^2 is:\",linear_regressor.score(x,p))"
   ]
  },
  {
   "cell_type": "markdown",
   "metadata": {},
   "source": [
    "Overall, this gave much better results. We can see how there is a pretty strong correlation between GDP and number of medals won, since R^2 is 0.625, while HDI and population size have much less of an impact, with $R^2$ < 0.2.\n",
    "\n",
    "We now analyse another Olympic Game, to see if we get similar results."
   ]
  },
  {
   "cell_type": "markdown",
   "metadata": {},
   "source": [
    "### London 2012"
   ]
  },
  {
   "cell_type": "code",
   "execution_count": 41,
   "metadata": {},
   "outputs": [
    {
     "data": {
      "text/html": [
       "<div>\n",
       "<style scoped>\n",
       "    .dataframe tbody tr th:only-of-type {\n",
       "        vertical-align: middle;\n",
       "    }\n",
       "\n",
       "    .dataframe tbody tr th {\n",
       "        vertical-align: top;\n",
       "    }\n",
       "\n",
       "    .dataframe thead th {\n",
       "        text-align: right;\n",
       "    }\n",
       "</style>\n",
       "<table border=\"1\" class=\"dataframe\">\n",
       "  <thead>\n",
       "    <tr style=\"text-align: right;\">\n",
       "      <th></th>\n",
       "      <th>Country_Year</th>\n",
       "      <th>Medals_won</th>\n",
       "      <th>Country</th>\n",
       "      <th>Year</th>\n",
       "      <th>GDP</th>\n",
       "      <th>Population_Size</th>\n",
       "      <th>HDI</th>\n",
       "    </tr>\n",
       "  </thead>\n",
       "  <tbody>\n",
       "    <tr>\n",
       "      <th>14</th>\n",
       "      <td>France 2012</td>\n",
       "      <td>34</td>\n",
       "      <td>France</td>\n",
       "      <td>2012</td>\n",
       "      <td>2.681416e+12</td>\n",
       "      <td>65659790.0</td>\n",
       "      <td>0.878</td>\n",
       "    </tr>\n",
       "    <tr>\n",
       "      <th>35</th>\n",
       "      <td>Canada 2012</td>\n",
       "      <td>18</td>\n",
       "      <td>Canada</td>\n",
       "      <td>2012</td>\n",
       "      <td>1.824289e+12</td>\n",
       "      <td>34750545.0</td>\n",
       "      <td>0.906</td>\n",
       "    </tr>\n",
       "    <tr>\n",
       "      <th>39</th>\n",
       "      <td>Russia 2012</td>\n",
       "      <td>77</td>\n",
       "      <td>Russia</td>\n",
       "      <td>2012</td>\n",
       "      <td>2.210257e+12</td>\n",
       "      <td>143201676.0</td>\n",
       "      <td>0.797</td>\n",
       "    </tr>\n",
       "    <tr>\n",
       "      <th>42</th>\n",
       "      <td>Egypt 2012</td>\n",
       "      <td>2</td>\n",
       "      <td>Egypt</td>\n",
       "      <td>2012</td>\n",
       "      <td>2.793728e+11</td>\n",
       "      <td>87813257.0</td>\n",
       "      <td>0.676</td>\n",
       "    </tr>\n",
       "    <tr>\n",
       "      <th>51</th>\n",
       "      <td>Netherlands 2012</td>\n",
       "      <td>19</td>\n",
       "      <td>Netherlands</td>\n",
       "      <td>2012</td>\n",
       "      <td>8.289468e+11</td>\n",
       "      <td>16754962.0</td>\n",
       "      <td>0.921</td>\n",
       "    </tr>\n",
       "    <tr>\n",
       "      <th>...</th>\n",
       "      <td>...</td>\n",
       "      <td>...</td>\n",
       "      <td>...</td>\n",
       "      <td>...</td>\n",
       "      <td>...</td>\n",
       "      <td>...</td>\n",
       "      <td>...</td>\n",
       "    </tr>\n",
       "    <tr>\n",
       "      <th>607</th>\n",
       "      <td>Portugal 2012</td>\n",
       "      <td>1</td>\n",
       "      <td>Portugal</td>\n",
       "      <td>2012</td>\n",
       "      <td>2.163682e+11</td>\n",
       "      <td>10514844.0</td>\n",
       "      <td>0.829</td>\n",
       "    </tr>\n",
       "    <tr>\n",
       "      <th>608</th>\n",
       "      <td>Latvia 2012</td>\n",
       "      <td>2</td>\n",
       "      <td>Latvia</td>\n",
       "      <td>2012</td>\n",
       "      <td>2.812000e+10</td>\n",
       "      <td>2034319.0</td>\n",
       "      <td>0.825</td>\n",
       "    </tr>\n",
       "    <tr>\n",
       "      <th>611</th>\n",
       "      <td>Thailand 2012</td>\n",
       "      <td>3</td>\n",
       "      <td>Thailand</td>\n",
       "      <td>2012</td>\n",
       "      <td>3.975600e+11</td>\n",
       "      <td>67843979.0</td>\n",
       "      <td>0.733</td>\n",
       "    </tr>\n",
       "    <tr>\n",
       "      <th>615</th>\n",
       "      <td>Bulgaria 2012</td>\n",
       "      <td>2</td>\n",
       "      <td>Bulgaria</td>\n",
       "      <td>2012</td>\n",
       "      <td>5.390303e+10</td>\n",
       "      <td>7305888.0</td>\n",
       "      <td>0.786</td>\n",
       "    </tr>\n",
       "    <tr>\n",
       "      <th>628</th>\n",
       "      <td>Dominican Republic 2012</td>\n",
       "      <td>2</td>\n",
       "      <td>Dominican Republic</td>\n",
       "      <td>2012</td>\n",
       "      <td>6.061365e+10</td>\n",
       "      <td>10154950.0</td>\n",
       "      <td>0.708</td>\n",
       "    </tr>\n",
       "  </tbody>\n",
       "</table>\n",
       "<p>81 rows × 7 columns</p>\n",
       "</div>"
      ],
      "text/plain": [
       "                Country_Year  Medals_won             Country  Year  \\\n",
       "14               France 2012          34              France  2012   \n",
       "35               Canada 2012          18              Canada  2012   \n",
       "39               Russia 2012          77              Russia  2012   \n",
       "42                Egypt 2012           2               Egypt  2012   \n",
       "51          Netherlands 2012          19         Netherlands  2012   \n",
       "..                       ...         ...                 ...   ...   \n",
       "607            Portugal 2012           1            Portugal  2012   \n",
       "608              Latvia 2012           2              Latvia  2012   \n",
       "611            Thailand 2012           3            Thailand  2012   \n",
       "615            Bulgaria 2012           2            Bulgaria  2012   \n",
       "628  Dominican Republic 2012           2  Dominican Republic  2012   \n",
       "\n",
       "              GDP  Population_Size    HDI  \n",
       "14   2.681416e+12       65659790.0  0.878  \n",
       "35   1.824289e+12       34750545.0  0.906  \n",
       "39   2.210257e+12      143201676.0  0.797  \n",
       "42   2.793728e+11       87813257.0  0.676  \n",
       "51   8.289468e+11       16754962.0  0.921  \n",
       "..            ...              ...    ...  \n",
       "607  2.163682e+11       10514844.0  0.829  \n",
       "608  2.812000e+10        2034319.0  0.825  \n",
       "611  3.975600e+11       67843979.0  0.733  \n",
       "615  5.390303e+10        7305888.0  0.786  \n",
       "628  6.061365e+10       10154950.0  0.708  \n",
       "\n",
       "[81 rows x 7 columns]"
      ]
     },
     "execution_count": 41,
     "metadata": {},
     "output_type": "execute_result"
    }
   ],
   "source": [
    "l = d[d['Year'] == 2012]\n",
    "l"
   ]
  },
  {
   "cell_type": "markdown",
   "metadata": {},
   "source": [
    "#### Medals won - GDP"
   ]
  },
  {
   "cell_type": "code",
   "execution_count": 42,
   "metadata": {},
   "outputs": [
    {
     "data": {
      "image/png": "[encoded data removed]",
      "text/plain": [
       "<Figure size 432x288 with 1 Axes>"
      ]
     },
     "metadata": {
      "needs_background": "light"
     },
     "output_type": "display_data"
    }
   ],
   "source": [
    "x = l['Medals_won']\n",
    "p = l['GDP']\n",
    "x=x.to_numpy()\n",
    "p=p.to_numpy()\n",
    "x=x.reshape(-1,1)\n",
    "p=p.reshape(-1,1)\n",
    "linear_regressor = LinearRegression()  \n",
    "linear_regressor.fit(x, p)  \n",
    "Y_pred = linear_regressor.predict(x)  \n",
    "plt.scatter(x, p)\n",
    "plt.plot(x, Y_pred, color='red')\n",
    "plt.title('R^2 = 0.671')\n",
    "plt.xlabel('Total number of medals won')\n",
    "plt.ylabel('GDP')\n",
    "plt.show()"
   ]
  },
  {
   "cell_type": "code",
   "execution_count": 43,
   "metadata": {},
   "outputs": [
    {
     "name": "stdout",
     "output_type": "stream",
     "text": [
      "the coefficient is:  [[1.01783561e+11]]\n",
      "the intercept is:  [-2.69303123e+11]\n",
      "the R^2 is: 0.6709874958827224\n"
     ]
    }
   ],
   "source": [
    "print(\"the coefficient is: \",linear_regressor.coef_)\n",
    "print(\"the intercept is: \",linear_regressor.intercept_)\n",
    "print(\"the R^2 is:\",linear_regressor.score(x,p))"
   ]
  },
  {
   "cell_type": "markdown",
   "metadata": {},
   "source": [
    "#### Medals won - Population size"
   ]
  },
  {
   "cell_type": "code",
   "execution_count": 44,
   "metadata": {},
   "outputs": [
    {
     "data": {
      "image/png": "[encoded data removed]",
      "text/plain": [
       "<Figure size 432x288 with 1 Axes>"
      ]
     },
     "metadata": {
      "needs_background": "light"
     },
     "output_type": "display_data"
    }
   ],
   "source": [
    "x = l['Medals_won']\n",
    "p = l['Population_Size']\n",
    "x=x.to_numpy()\n",
    "p=p.to_numpy()\n",
    "x=x.reshape(-1,1)\n",
    "p=p.reshape(-1,1)\n",
    "linear_regressor = LinearRegression()  \n",
    "linear_regressor.fit(x, p)  \n",
    "Y_pred = linear_regressor.predict(x)  \n",
    "plt.scatter(x, p)\n",
    "plt.plot(x, Y_pred, color='red')\n",
    "plt.title('R^2 = 0.169')\n",
    "plt.xlabel('Total number of medals won')\n",
    "plt.ylabel('Population size')\n",
    "plt.show()"
   ]
  },
  {
   "cell_type": "code",
   "execution_count": 45,
   "metadata": {},
   "outputs": [
    {
     "name": "stdout",
     "output_type": "stream",
     "text": [
      "the coefficient is:  [[4856114.53964468]]\n",
      "the intercept is:  [13109991.18639519]\n",
      "the R^2 is: 0.16928280295964604\n"
     ]
    }
   ],
   "source": [
    "print(\"the coefficient is: \",linear_regressor.coef_)\n",
    "print(\"the intercept is: \",linear_regressor.intercept_)\n",
    "print(\"the R^2 is:\",linear_regressor.score(x,p))"
   ]
  },
  {
   "cell_type": "markdown",
   "metadata": {},
   "source": [
    "#### Medals won - HDI"
   ]
  },
  {
   "cell_type": "code",
   "execution_count": 46,
   "metadata": {},
   "outputs": [
    {
     "data": {
      "image/png": "[encoded data removed]",
      "text/plain": [
       "<Figure size 432x288 with 1 Axes>"
      ]
     },
     "metadata": {
      "needs_background": "light"
     },
     "output_type": "display_data"
    }
   ],
   "source": [
    "x = l['Medals_won']\n",
    "p = l['HDI']\n",
    "x=x.to_numpy()\n",
    "p=p.to_numpy()\n",
    "x=x.reshape(-1,1)\n",
    "p=p.reshape(-1,1)\n",
    "linear_regressor = LinearRegression()  \n",
    "linear_regressor.fit(x, p)  \n",
    "Y_pred = linear_regressor.predict(x)  \n",
    "plt.scatter(x, p)\n",
    "plt.plot(x, Y_pred, color='red')\n",
    "plt.title('R^2 = 0.079')\n",
    "plt.xlabel('Total number of medals won')\n",
    "plt.ylabel('HDI')\n",
    "plt.show()"
   ]
  },
  {
   "cell_type": "code",
   "execution_count": 47,
   "metadata": {},
   "outputs": [
    {
     "name": "stdout",
     "output_type": "stream",
     "text": [
      "the coefficient is:  [[0.00175295]]\n",
      "the intercept is:  [0.76524824]\n",
      "the R^2 is: 0.07855380181417149\n"
     ]
    }
   ],
   "source": [
    "print(\"the coefficient is: \",linear_regressor.coef_)\n",
    "print(\"the intercept is: \",linear_regressor.intercept_)\n",
    "print(\"the R^2 is:\",linear_regressor.score(x,p))"
   ]
  },
  {
   "cell_type": "markdown",
   "metadata": {},
   "source": [
    "In conclusion, we see that London 2012 has similar results to Beijing 2008. Since these are both summer games, we now analyse the situation for the winter games."
   ]
  },
  {
   "cell_type": "markdown",
   "metadata": {},
   "source": [
    "### Vancouver 2010"
   ]
  },
  {
   "cell_type": "code",
   "execution_count": 48,
   "metadata": {},
   "outputs": [
    {
     "data": {
      "text/html": [
       "<div>\n",
       "<style scoped>\n",
       "    .dataframe tbody tr th:only-of-type {\n",
       "        vertical-align: middle;\n",
       "    }\n",
       "\n",
       "    .dataframe tbody tr th {\n",
       "        vertical-align: top;\n",
       "    }\n",
       "\n",
       "    .dataframe thead th {\n",
       "        text-align: right;\n",
       "    }\n",
       "</style>\n",
       "<table border=\"1\" class=\"dataframe\">\n",
       "  <thead>\n",
       "    <tr style=\"text-align: right;\">\n",
       "      <th></th>\n",
       "      <th>Country_Year</th>\n",
       "      <th>Medals_won</th>\n",
       "      <th>Country</th>\n",
       "      <th>Year</th>\n",
       "      <th>GDP</th>\n",
       "      <th>Population_Size</th>\n",
       "      <th>HDI</th>\n",
       "    </tr>\n",
       "  </thead>\n",
       "  <tbody>\n",
       "    <tr>\n",
       "      <th>73</th>\n",
       "      <td>Germany 2010</td>\n",
       "      <td>25</td>\n",
       "      <td>Germany</td>\n",
       "      <td>2010</td>\n",
       "      <td>3.417095e+12</td>\n",
       "      <td>81776930.0</td>\n",
       "      <td>0.920</td>\n",
       "    </tr>\n",
       "    <tr>\n",
       "      <th>86</th>\n",
       "      <td>Canada 2010</td>\n",
       "      <td>24</td>\n",
       "      <td>Canada</td>\n",
       "      <td>2010</td>\n",
       "      <td>1.613464e+12</td>\n",
       "      <td>34005274.0</td>\n",
       "      <td>0.895</td>\n",
       "    </tr>\n",
       "    <tr>\n",
       "      <th>174</th>\n",
       "      <td>Switzerland 2010</td>\n",
       "      <td>9</td>\n",
       "      <td>Switzerland</td>\n",
       "      <td>2010</td>\n",
       "      <td>5.837830e+11</td>\n",
       "      <td>7824909.0</td>\n",
       "      <td>0.932</td>\n",
       "    </tr>\n",
       "    <tr>\n",
       "      <th>211</th>\n",
       "      <td>France 2010</td>\n",
       "      <td>11</td>\n",
       "      <td>France</td>\n",
       "      <td>2010</td>\n",
       "      <td>2.646837e+12</td>\n",
       "      <td>65027512.0</td>\n",
       "      <td>0.872</td>\n",
       "    </tr>\n",
       "    <tr>\n",
       "      <th>231</th>\n",
       "      <td>Japan 2010</td>\n",
       "      <td>4</td>\n",
       "      <td>Japan</td>\n",
       "      <td>2010</td>\n",
       "      <td>5.700098e+12</td>\n",
       "      <td>128070000.0</td>\n",
       "      <td>0.885</td>\n",
       "    </tr>\n",
       "  </tbody>\n",
       "</table>\n",
       "</div>"
      ],
      "text/plain": [
       "         Country_Year  Medals_won      Country  Year           GDP  \\\n",
       "73       Germany 2010          25      Germany  2010  3.417095e+12   \n",
       "86        Canada 2010          24       Canada  2010  1.613464e+12   \n",
       "174  Switzerland 2010           9  Switzerland  2010  5.837830e+11   \n",
       "211       France 2010          11       France  2010  2.646837e+12   \n",
       "231        Japan 2010           4        Japan  2010  5.700098e+12   \n",
       "\n",
       "     Population_Size    HDI  \n",
       "73        81776930.0  0.920  \n",
       "86        34005274.0  0.895  \n",
       "174        7824909.0  0.932  \n",
       "211       65027512.0  0.872  \n",
       "231      128070000.0  0.885  "
      ]
     },
     "execution_count": 48,
     "metadata": {},
     "output_type": "execute_result"
    }
   ],
   "source": [
    "v = d[d['Year'] == 2010]\n",
    "v.head()"
   ]
  },
  {
   "cell_type": "markdown",
   "metadata": {},
   "source": [
    "#### Medals won - GDP"
   ]
  },
  {
   "cell_type": "code",
   "execution_count": 49,
   "metadata": {},
   "outputs": [
    {
     "data": {
      "image/png": "[encoded data removed]",
      "text/plain": [
       "<Figure size 432x288 with 1 Axes>"
      ]
     },
     "metadata": {
      "needs_background": "light"
     },
     "output_type": "display_data"
    }
   ],
   "source": [
    "x = v['Medals_won']\n",
    "p = v['GDP']\n",
    "x=x.to_numpy()\n",
    "p=p.to_numpy()\n",
    "x=x.reshape(-1,1)\n",
    "p=p.reshape(-1,1)\n",
    "linear_regressor = LinearRegression()  \n",
    "linear_regressor.fit(x, p) \n",
    "Y_pred = linear_regressor.predict(x)  \n",
    "plt.scatter(x, p)\n",
    "plt.plot(x, Y_pred, color='red')\n",
    "plt.title('R^2 = 0.278')\n",
    "plt.xlabel('Total number of medals won')\n",
    "plt.ylabel('GDP')\n",
    "plt.show()"
   ]
  },
  {
   "cell_type": "code",
   "execution_count": 50,
   "metadata": {},
   "outputs": [
    {
     "name": "stdout",
     "output_type": "stream",
     "text": [
      "the coefficient is:  [[2.06703254e+11]]\n",
      "the intercept is:  [-4.927075e+10]\n",
      "the R^2 is: 0.2782329846662027\n"
     ]
    }
   ],
   "source": [
    "print(\"the coefficient is: \",linear_regressor.coef_)\n",
    "print(\"the intercept is: \",linear_regressor.intercept_)\n",
    "print(\"the R^2 is:\",linear_regressor.score(x,p))"
   ]
  },
  {
   "cell_type": "markdown",
   "metadata": {},
   "source": [
    "#### Medals won - Population size"
   ]
  },
  {
   "cell_type": "code",
   "execution_count": 51,
   "metadata": {},
   "outputs": [
    {
     "data": {
      "image/png": "[encoded data removed]",
      "text/plain": [
       "<Figure size 432x288 with 1 Axes>"
      ]
     },
     "metadata": {
      "needs_background": "light"
     },
     "output_type": "display_data"
    }
   ],
   "source": [
    "x = v['Medals_won']\n",
    "p = v['Population_Size']\n",
    "x=x.to_numpy()\n",
    "p=p.to_numpy()\n",
    "x=x.reshape(-1,1)\n",
    "p=p.reshape(-1,1)\n",
    "linear_regressor = LinearRegression()  \n",
    "linear_regressor.fit(x, p)  \n",
    "Y_pred = linear_regressor.predict(x)\n",
    "plt.scatter(x, p)\n",
    "plt.plot(x, Y_pred, color='red')\n",
    "plt.title('R^2 = 0.019')\n",
    "plt.xlabel('Total number of medals won')\n",
    "plt.ylabel('Population size')\n",
    "plt.show()"
   ]
  },
  {
   "cell_type": "code",
   "execution_count": 52,
   "metadata": {},
   "outputs": [
    {
     "name": "stdout",
     "output_type": "stream",
     "text": [
      "the coefficient is:  [[4477881.18923623]]\n",
      "the intercept is:  [53504473.53492143]\n",
      "the R^2 is: 0.018814531085514452\n"
     ]
    }
   ],
   "source": [
    "print(\"the coefficient is: \",linear_regressor.coef_)\n",
    "print(\"the intercept is: \",linear_regressor.intercept_)\n",
    "print(\"the R^2 is:\",linear_regressor.score(x,p))"
   ]
  },
  {
   "cell_type": "markdown",
   "metadata": {},
   "source": [
    "#### Medals won - HDI"
   ]
  },
  {
   "cell_type": "code",
   "execution_count": 53,
   "metadata": {},
   "outputs": [
    {
     "data": {
      "image/png": "[encoded data removed]",
      "text/plain": [
       "<Figure size 432x288 with 1 Axes>"
      ]
     },
     "metadata": {
      "needs_background": "light"
     },
     "output_type": "display_data"
    }
   ],
   "source": [
    "x = v['Medals_won']\n",
    "p = v['HDI']\n",
    "x=x.to_numpy()\n",
    "p=p.to_numpy()\n",
    "x=x.reshape(-1,1)\n",
    "p=p.reshape(-1,1)\n",
    "linear_regressor = LinearRegression()\n",
    "linear_regressor.fit(x, p)\n",
    "Y_pred = linear_regressor.predict(x)\n",
    "plt.scatter(x, p)\n",
    "plt.plot(x, Y_pred, color='red')\n",
    "plt.title('R^2 = 0.133')\n",
    "plt.xlabel('Total number of medals won')\n",
    "plt.ylabel('HDI')\n",
    "plt.show()"
   ]
  },
  {
   "cell_type": "code",
   "execution_count": 54,
   "metadata": {},
   "outputs": [
    {
     "name": "stdout",
     "output_type": "stream",
     "text": [
      "the coefficient is:  [[0.00266798]]\n",
      "the intercept is:  [0.84043696]\n",
      "the R^2 is: 0.1333013923658264\n"
     ]
    }
   ],
   "source": [
    "print(\"the coefficient is: \",linear_regressor.coef_)\n",
    "print(\"the intercept is: \",linear_regressor.intercept_)\n",
    "print(\"the R^2 is:\",linear_regressor.score(x,p))"
   ]
  },
  {
   "cell_type": "markdown",
   "metadata": {},
   "source": [
    "For the winter games the result are much less satisfactory. Wee see that the correlation between GDP and number of medals won drops to a $R^2$ of less than 0.3 and population size to less than 0.1, while the impact of HDI remains about the same (but it was already pretty low for the summer games).\n",
    "\n",
    "We check these results by analysing another winter Olympic."
   ]
  },
  {
   "cell_type": "markdown",
   "metadata": {},
   "source": [
    "### Sochi 2014"
   ]
  },
  {
   "cell_type": "code",
   "execution_count": 55,
   "metadata": {},
   "outputs": [
    {
     "data": {
      "text/html": [
       "<div>\n",
       "<style scoped>\n",
       "    .dataframe tbody tr th:only-of-type {\n",
       "        vertical-align: middle;\n",
       "    }\n",
       "\n",
       "    .dataframe tbody tr th {\n",
       "        vertical-align: top;\n",
       "    }\n",
       "\n",
       "    .dataframe thead th {\n",
       "        text-align: right;\n",
       "    }\n",
       "</style>\n",
       "<table border=\"1\" class=\"dataframe\">\n",
       "  <thead>\n",
       "    <tr style=\"text-align: right;\">\n",
       "      <th></th>\n",
       "      <th>Country_Year</th>\n",
       "      <th>Medals_won</th>\n",
       "      <th>Country</th>\n",
       "      <th>Year</th>\n",
       "      <th>GDP</th>\n",
       "      <th>Population_Size</th>\n",
       "      <th>HDI</th>\n",
       "    </tr>\n",
       "  </thead>\n",
       "  <tbody>\n",
       "    <tr>\n",
       "      <th>0</th>\n",
       "      <td>Finland 2014</td>\n",
       "      <td>5</td>\n",
       "      <td>Finland</td>\n",
       "      <td>2014</td>\n",
       "      <td>2.726093e+11</td>\n",
       "      <td>5461512.0</td>\n",
       "      <td>0.918</td>\n",
       "    </tr>\n",
       "    <tr>\n",
       "      <th>25</th>\n",
       "      <td>USA 2014</td>\n",
       "      <td>23</td>\n",
       "      <td>USA</td>\n",
       "      <td>2014</td>\n",
       "      <td>1.739310e+13</td>\n",
       "      <td>318563456.0</td>\n",
       "      <td>0.915</td>\n",
       "    </tr>\n",
       "    <tr>\n",
       "      <th>64</th>\n",
       "      <td>UK 2014</td>\n",
       "      <td>4</td>\n",
       "      <td>UK</td>\n",
       "      <td>2014</td>\n",
       "      <td>3.022828e+12</td>\n",
       "      <td>64613160.0</td>\n",
       "      <td>0.918</td>\n",
       "    </tr>\n",
       "    <tr>\n",
       "      <th>87</th>\n",
       "      <td>Canada 2014</td>\n",
       "      <td>21</td>\n",
       "      <td>Canada</td>\n",
       "      <td>2014</td>\n",
       "      <td>1.792883e+12</td>\n",
       "      <td>35544564.0</td>\n",
       "      <td>0.914</td>\n",
       "    </tr>\n",
       "    <tr>\n",
       "      <th>145</th>\n",
       "      <td>Sweden 2014</td>\n",
       "      <td>13</td>\n",
       "      <td>Sweden</td>\n",
       "      <td>2014</td>\n",
       "      <td>5.738177e+11</td>\n",
       "      <td>9696110.0</td>\n",
       "      <td>0.929</td>\n",
       "    </tr>\n",
       "  </tbody>\n",
       "</table>\n",
       "</div>"
      ],
      "text/plain": [
       "     Country_Year  Medals_won  Country  Year           GDP  Population_Size  \\\n",
       "0    Finland 2014           5  Finland  2014  2.726093e+11        5461512.0   \n",
       "25       USA 2014          23      USA  2014  1.739310e+13      318563456.0   \n",
       "64        UK 2014           4       UK  2014  3.022828e+12       64613160.0   \n",
       "87    Canada 2014          21   Canada  2014  1.792883e+12       35544564.0   \n",
       "145   Sweden 2014          13   Sweden  2014  5.738177e+11        9696110.0   \n",
       "\n",
       "       HDI  \n",
       "0    0.918  \n",
       "25   0.915  \n",
       "64   0.918  \n",
       "87   0.914  \n",
       "145  0.929  "
      ]
     },
     "execution_count": 55,
     "metadata": {},
     "output_type": "execute_result"
    }
   ],
   "source": [
    "s = d[d['Year'] == 2014]\n",
    "s.head()"
   ]
  },
  {
   "cell_type": "markdown",
   "metadata": {},
   "source": [
    "#### Medals won - GDP"
   ]
  },
  {
   "cell_type": "code",
   "execution_count": 56,
   "metadata": {},
   "outputs": [
    {
     "data": {
      "image/png": "[encoded data removed]",
      "text/plain": [
       "<Figure size 432x288 with 1 Axes>"
      ]
     },
     "metadata": {
      "needs_background": "light"
     },
     "output_type": "display_data"
    }
   ],
   "source": [
    "x = s['Medals_won']\n",
    "p = s['GDP']\n",
    "x=x.to_numpy()\n",
    "p=p.to_numpy()\n",
    "x=x.reshape(-1,1)\n",
    "p=p.reshape(-1,1)\n",
    "linear_regressor = LinearRegression()\n",
    "linear_regressor.fit(x, p)\n",
    "Y_pred = linear_regressor.predict(x)\n",
    "plt.scatter(x, p)\n",
    "plt.plot(x, Y_pred, color='red')\n",
    "plt.title('R^2 = 0.150')\n",
    "plt.xlabel('Total number of medals won')\n",
    "plt.ylabel('GDP')\n",
    "plt.show()"
   ]
  },
  {
   "cell_type": "code",
   "execution_count": 57,
   "metadata": {},
   "outputs": [
    {
     "name": "stdout",
     "output_type": "stream",
     "text": [
      "the coefficient is:  [[1.99685955e+11]]\n",
      "the intercept is:  [2.32593566e+11]\n",
      "the R^2 is: 0.15022225161499114\n"
     ]
    }
   ],
   "source": [
    "print(\"the coefficient is: \",linear_regressor.coef_)\n",
    "print(\"the intercept is: \",linear_regressor.intercept_)\n",
    "print(\"the R^2 is:\",linear_regressor.score(x,p))"
   ]
  },
  {
   "cell_type": "markdown",
   "metadata": {},
   "source": [
    "#### Medals won - Population size"
   ]
  },
  {
   "cell_type": "code",
   "execution_count": 58,
   "metadata": {},
   "outputs": [
    {
     "data": {
      "image/png": "[encoded data removed]",
      "text/plain": [
       "<Figure size 432x288 with 1 Axes>"
      ]
     },
     "metadata": {
      "needs_background": "light"
     },
     "output_type": "display_data"
    }
   ],
   "source": [
    "x = s['Medals_won']\n",
    "p = s['Population_Size']\n",
    "x=x.to_numpy()\n",
    "p=p.to_numpy()\n",
    "x=x.reshape(-1,1)\n",
    "p=p.reshape(-1,1)\n",
    "linear_regressor = LinearRegression() \n",
    "linear_regressor.fit(x, p)\n",
    "Y_pred = linear_regressor.predict(x)\n",
    "plt.scatter(x, p)\n",
    "plt.plot(x, Y_pred, color='red')\n",
    "plt.title('R^2 = 0.012')\n",
    "plt.xlabel('Total number of medals won')\n",
    "plt.ylabel('Population size')\n",
    "plt.show()"
   ]
  },
  {
   "cell_type": "code",
   "execution_count": 59,
   "metadata": {},
   "outputs": [
    {
     "name": "stdout",
     "output_type": "stream",
     "text": [
      "the coefficient is:  [[3993057.02799721]]\n",
      "the intercept is:  [58550620.46048849]\n",
      "the R^2 is: 0.012326548172627794\n"
     ]
    }
   ],
   "source": [
    "print(\"the coefficient is: \",linear_regressor.coef_)\n",
    "print(\"the intercept is: \",linear_regressor.intercept_)\n",
    "print(\"the R^2 is:\",linear_regressor.score(x,p))"
   ]
  },
  {
   "cell_type": "markdown",
   "metadata": {},
   "source": [
    "#### Medals won - HDI"
   ]
  },
  {
   "cell_type": "code",
   "execution_count": 60,
   "metadata": {},
   "outputs": [
    {
     "data": {
      "image/png": "[encoded data removed]",
      "text/plain": [
       "<Figure size 432x288 with 1 Axes>"
      ]
     },
     "metadata": {
      "needs_background": "light"
     },
     "output_type": "display_data"
    }
   ],
   "source": [
    "x = s['Medals_won']\n",
    "p = s['HDI']\n",
    "x=x.to_numpy()\n",
    "p=p.to_numpy()\n",
    "x=x.reshape(-1,1)\n",
    "p=p.reshape(-1,1)\n",
    "linear_regressor = LinearRegression()\n",
    "linear_regressor.fit(x, p)\n",
    "Y_pred = linear_regressor.predict(x)\n",
    "plt.scatter(x, p)\n",
    "plt.plot(x, Y_pred, color='red')\n",
    "plt.title('R^2 = 0.100')\n",
    "plt.xlabel('Total number of medals won')\n",
    "plt.ylabel('HDI')\n",
    "plt.show()"
   ]
  },
  {
   "cell_type": "code",
   "execution_count": 61,
   "metadata": {
    "scrolled": true
   },
   "outputs": [
    {
     "name": "stdout",
     "output_type": "stream",
     "text": [
      "the coefficient is:  [[0.00248522]]\n",
      "the intercept is:  [0.85104653]\n",
      "the R^2 is: 0.09962955266465834\n"
     ]
    }
   ],
   "source": [
    "print(\"the coefficient is: \",linear_regressor.coef_)\n",
    "print(\"the intercept is: \",linear_regressor.intercept_)\n",
    "print(\"the R^2 is:\",linear_regressor.score(x,p))"
   ]
  },
  {
   "cell_type": "markdown",
   "metadata": {},
   "source": [
    "Again, the final results are pretty similar. This difference in results between the summer and winter games makes sense considering that considering that countries with a colder climate tend to be better at winter sports, and those countries also happen to have pretty high GDPs and small populations, which in turn means there is not much of a correlation between those features and the number of medals won."
   ]
  },
  {
   "cell_type": "markdown",
   "metadata": {},
   "source": [
    "### Comparison between Linear Regression and Logistic Regression"
   ]
  },
  {
   "cell_type": "markdown",
   "metadata": {},
   "source": [
    "In this last part, we compare the linear regression model with the logistic regression one, to see which one applies better to this particular problem. We chose the GDP and number of medals won in London 2012 as the field of comparison, since we already know it gives pretty good results for the linear regression ( $R^2$ = 0.671). We use the total sum of the residuals as a way of comparing the two regression models.\n",
    "\n",
    "We start by recalling the linear regression model we have previously implemented, just with standardised number of medals and GDPs. This is done because the standardisation will be necessary for the logistic model, so they both need to have it otherwise comparison will not be possible."
   ]
  },
  {
   "cell_type": "code",
   "execution_count": 62,
   "metadata": {},
   "outputs": [],
   "source": [
    "stand_m =[]\n",
    "for i,row in l.iterrows():\n",
    "    x=int(l['Medals_won'][i])\n",
    "    stand_m.append(x)\n",
    "m_std = (stand_m - np.mean(stand_m)) / np.std(stand_m)"
   ]
  },
  {
   "cell_type": "code",
   "execution_count": 63,
   "metadata": {},
   "outputs": [],
   "source": [
    "stand_gdp =[]\n",
    "for i,row in l.iterrows():\n",
    "    x=int(l['GDP'][i])\n",
    "    stand_gdp.append(x)\n",
    "gdp_std = (stand_gdp - np.mean(stand_gdp)) / np.std(stand_gdp)"
   ]
  },
  {
   "cell_type": "code",
   "execution_count": 64,
   "metadata": {
    "scrolled": true
   },
   "outputs": [
    {
     "data": {
      "image/png": "[encoded data removed]",
      "text/plain": [
       "<Figure size 432x288 with 1 Axes>"
      ]
     },
     "metadata": {
      "needs_background": "light"
     },
     "output_type": "display_data"
    },
    {
     "name": "stdout",
     "output_type": "stream",
     "text": [
      "the coefficient is:  [[0.81913826]]\n",
      "the intercept is:  [5.70345865e-17]\n",
      "the R^2 is: 0.6709874958827078\n"
     ]
    }
   ],
   "source": [
    "x = gdp_std\n",
    "p = m_std\n",
    "x=x.reshape(-1,1)\n",
    "p=p.reshape(-1,1)\n",
    "linear_regressor = LinearRegression()\n",
    "linear_regressor.fit(x, p)\n",
    "Y_pred = linear_regressor.predict(x) \n",
    "plt.scatter(x, p)\n",
    "plt.plot(x, Y_pred, color='red')\n",
    "plt.title('Linear Regression')\n",
    "plt.xlabel('GDP')\n",
    "plt.ylabel('Number of medals won')\n",
    "plt.show()\n",
    "print(\"the coefficient is: \",linear_regressor.coef_)\n",
    "print(\"the intercept is: \",linear_regressor.intercept_)\n",
    "print(\"the R^2 is:\",linear_regressor.score(x,p))"
   ]
  },
  {
   "cell_type": "code",
   "execution_count": 65,
   "metadata": {},
   "outputs": [
    {
     "data": {
      "text/plain": [
       "26.650012833500675"
      ]
     },
     "execution_count": 65,
     "metadata": {},
     "output_type": "execute_result"
    }
   ],
   "source": [
    "tot_residuals = np.sum(np.power(p - Y_pred, 2))\n",
    "tot_residuals"
   ]
  },
  {
   "cell_type": "markdown",
   "metadata": {},
   "source": [
    "Now we move on to the logistic regression, for which we will again need the standardised GDP values. Instead, for the medals we implement a new binary list, which has value 1 for those countries that have won at least 15 medals and 0 for those that did not."
   ]
  },
  {
   "cell_type": "code",
   "execution_count": 66,
   "metadata": {},
   "outputs": [],
   "source": [
    "g=[]\n",
    "for i,row in l.iterrows():\n",
    "    x=int(l['GDP'][i])\n",
    "    g.append(x)\n",
    "g_std = (g - np.mean(g)) / np.std(g)"
   ]
  },
  {
   "cell_type": "code",
   "execution_count": 67,
   "metadata": {},
   "outputs": [],
   "source": [
    "m=[]\n",
    "x = 15\n",
    "for i,row in l.iterrows():\n",
    "    if l['Medals_won'][i]>x:\n",
    "        m.append(1)\n",
    "    else:\n",
    "        m.append(0)"
   ]
  },
  {
   "cell_type": "code",
   "execution_count": 68,
   "metadata": {
    "scrolled": true
   },
   "outputs": [
    {
     "data": {
      "text/plain": [
       "[<matplotlib.lines.Line2D at 0xc6c4580>]"
      ]
     },
     "execution_count": 68,
     "metadata": {},
     "output_type": "execute_result"
    },
    {
     "data": {
      "image/png": "[encoded data removed]",
      "text/plain": [
       "<Figure size 432x288 with 1 Axes>"
      ]
     },
     "metadata": {
      "needs_background": "light"
     },
     "output_type": "display_data"
    }
   ],
   "source": [
    "X = np.asarray(g_std)\n",
    "y = m\n",
    "X=X.reshape(-1,1)\n",
    "plt.scatter(X.ravel(), y,zorder=20)\n",
    "X_test = np.linspace(min(X), max(X), 81)\n",
    "clf = LinearRegression()\n",
    "clf.fit(X,y)\n",
    "plt.xlabel('GDP')\n",
    "plt.ylabel('Won at least 15 medals or not')\n",
    "loss = expit(X_test * clf.coef_ + clf.intercept_).ravel()\n",
    "loss_y = expit(X * clf.coef_ + clf.intercept_).ravel()\n",
    "plt.plot(X_test, loss, color='red', linewidth=3)"
   ]
  },
  {
   "cell_type": "code",
   "execution_count": 69,
   "metadata": {},
   "outputs": [
    {
     "name": "stdout",
     "output_type": "stream",
     "text": [
      "21.04827279675492\n"
     ]
    }
   ],
   "source": [
    "tot_residuals = np.sum(np.power(y - loss_y, 2))\n",
    "print(tot_residuals)"
   ]
  },
  {
   "cell_type": "markdown",
   "metadata": {},
   "source": [
    "So in conclusion, since we have total residuals equal to 26 for the linear regression model and 21 for the logistic regression one, the latter proves to be a better fit than the former.\n",
    "\n",
    "Of course, it still makes sense for the previous analysis to be using the linear regression, as it yields more information for our set up."
   ]
  },
  {
   "cell_type": "code",
   "execution_count": null,
   "metadata": {},
   "outputs": [],
   "source": []
  }
 ],
 "metadata": {
  "kernelspec": {
   "display_name": "Python 3",
   "language": "python",
   "name": "python3"
  },
  "language_info": {
   "codemirror_mode": {
    "name": "ipython",
    "version": 3
   },
   "file_extension": ".py",
   "mimetype": "text/x-python",
   "name": "python",
   "nbconvert_exporter": "python",
   "pygments_lexer": "ipython3",
   "version": "3.7.9"
  }
 },
 "nbformat": 4,
 "nbformat_minor": 4
}
