{
 "cells": [
  {
   "cell_type": "markdown",
   "metadata": {},
   "source": [
    "## Importing libraries & loading dataset"
   ]
  },
  {
   "cell_type": "code",
   "execution_count": 1,
   "metadata": {},
   "outputs": [],
   "source": [
    "import pandas as pd\n",
    "import numpy as np\n",
    "from geopy.geocoders import Nominatim \n",
    "import country_converter as coco\n",
    "from sklearn.model_selection import train_test_split\n",
    "from sklearn.linear_model import LogisticRegression\n",
    "from sklearn.metrics import classification_report\n",
    "import math\n",
    "import statsmodels.api as sm"
   ]
  },
  {
   "cell_type": "code",
   "execution_count": 2,
   "metadata": {},
   "outputs": [],
   "source": [
    "raw_data = pd.read_csv('data/athlete_events.csv',index_col=\"ID\")\n",
    "regions = pd.read_csv('data/noc_regions.csv')\n",
    "df = pd.merge(raw_data, regions, on='NOC', how='left')"
   ]
  },
  {
   "cell_type": "markdown",
   "metadata": {},
   "source": [
    "## Model 2 : Home advantage effect in Olympic games"
   ]
  },
  {
   "cell_type": "markdown",
   "metadata": {},
   "source": [
    "In this model we will try to understand if host effect can bring some advantage to the teams or not.\n",
    "It is important to state that, since there is no suitable independent and dependent variable, we will try to create new independent variables and dependent variable under consideration of the data features. "
   ]
  },
  {
   "cell_type": "markdown",
   "metadata": {},
   "source": [
    "Since the variables related to the model does not contain missing values, data pre-processing is not applied. However, several filterig can be investigated in the following code.\n",
    "<br> <u>Overview</u> of the notebook can be found as following:\n",
    "1. Some filtering and new variable addition to the dataset\n",
    "2. Logistic regression model approach:\n",
    "<br>2.1 features: sport, team\n",
    "<br>2.2 feature: sport\n",
    "<br>2.3 feature: team\n",
    "3. Discussion about the results\n",
    "4. Logit regression model approach\n",
    "5. Discussion about the results\n",
    "    "
   ]
  },
  {
   "cell_type": "markdown",
   "metadata": {},
   "source": [
    "## 1. Some filtering and new variable addition to the dataset"
   ]
  },
  {
   "cell_type": "code",
   "execution_count": 3,
   "metadata": {},
   "outputs": [],
   "source": [
    "# Creating a new dataframe which does not contain non medal data\n",
    "df_medal = df[df.Medal.isnull() == False]\n",
    "df_new = df.copy()\n",
    "\n",
    "\n",
    "# Dropping the unncessary columns\n",
    "df_medal = df_medal.drop(['Name', 'Sex', 'Age', 'Height', 'Weight', 'Event', 'notes', 'NOC'], axis=1)\n",
    "\n",
    "# Since 'Individual Olympic Athletes' variable in 'Team' column does not show country information,\n",
    "# rows with this variable will be dropped.\n",
    "df_medal.drop( df_medal[ df_medal['Team'] == 'Individual Olympic Athletes' ].index , inplace=True)\n",
    "df_new.drop( df_new[ df_new['Team'] == 'Individual Olympic Athletes' ].index , inplace=True)\n",
    "\n",
    "# There are several region names for the same countries, so before converting them to iso3 values\n",
    "# conversion in the below is applied.\n",
    "df_medal.loc[df_medal.region == \"US\", \"region\"] = \"United States\"\n",
    "df_medal.loc[df_medal.region == \"USA\", \"region\"] = \"United States\"\n",
    "df_medal.loc[df_medal.region == \"UK\", \"region\"] = \"United Kingdom\"\n",
    "df_medal.dropna(subset = [\"region\"], inplace=True)\n",
    "df_new.loc[df_new.region == \"US\", \"region\"] = \"United States\"\n",
    "df_new.loc[df_new.region == \"USA\", \"region\"] = \"United States\"\n",
    "df_new.loc[df_new.region == \"UK\", \"region\"] = \"United Kingdom\"\n",
    "df_new.loc[df_new.region == \"Boliva\", \"region\"] = \"Bolivia\"\n",
    "df_new.dropna(subset = [\"region\"], inplace=True)"
   ]
  },
  {
   "cell_type": "markdown",
   "metadata": {},
   "source": [
    "Home advantage effect will be examined on the teams that experienced being host in the past. Thus, the following steps will be taken:"
   ]
  },
  {
   "cell_type": "code",
   "execution_count": 4,
   "metadata": {},
   "outputs": [],
   "source": [
    "# Converting host cities to host countries \n",
    "geolocator = Nominatim(user_agent = \"geoapiExercises\") \n",
    "uniq_host_cities = list(df_medal.City.unique())\n",
    "uniq_host_countries = []\n",
    "for city in uniq_host_cities:\n",
    "    location = geolocator.geocode(city, language='en') \n",
    "    uniq_host_countries.append(location[0].split(',')[-1])\n",
    "    \n",
    "# Converting host countries to iso3 values\n",
    "iso3_for_host = coco.convert(names=uniq_host_countries, to='ISO3', not_found=None)\n",
    "\n",
    "# Creating a dictionary in order to match host city to iso3 code\n",
    "host_city_to_iso3 = {}\n",
    "for i in range(len(uniq_host_cities)):\n",
    "    host_city_to_iso3[uniq_host_cities[i]] = iso3_for_host[i]\n",
    "    \n",
    "# Creating a list to store corresponding iso3 code of the host city\n",
    "host_NOC_column = []\n",
    "for i in range(len(df_medal)):\n",
    "    host_NOC_column.append(host_city_to_iso3[df_medal.City.iloc[i]])\n",
    "    \n",
    "# Adding Team_NOC column to the dataframe\n",
    "df_medal['Host_NOC'] = host_NOC_column"
   ]
  },
  {
   "cell_type": "code",
   "execution_count": 5,
   "metadata": {},
   "outputs": [],
   "source": [
    "# Some NOC values mismatch with iso3 values (e.g. Germany -> DEU/GER) \n",
    "# Therefore in order to have a consistency iso3 values are found based on region column\n",
    "region_list = list(df_medal.region.unique())\n",
    "iso3_for_team = coco.convert(names=region_list, to='ISO3', not_found=None)\n",
    "\n",
    "# Creating a dictionary in order to match region to iso3 code\n",
    "region_to_iso3 = {}\n",
    "for i in range(len(region_list)):\n",
    "    region_to_iso3[region_list[i]] = iso3_for_team[i]\n",
    "    \n",
    "# Creating a list to store corresponding iso3 code of the region(team)\n",
    "region_column = []\n",
    "for i in range(len(df_medal)):\n",
    "    region_column.append(region_to_iso3[df_medal.region.iloc[i]])\n",
    "    \n",
    "# Adding Team_NOC column to the dataframe\n",
    "df_medal['Team_NOC'] = region_column"
   ]
  },
  {
   "cell_type": "code",
   "execution_count": 6,
   "metadata": {},
   "outputs": [],
   "source": [
    "# Doing the same process with df_new dataframe\n",
    "region_list = list(df_new.region.unique())\n",
    "iso3_for_team = coco.convert(names=region_list, to='ISO3', not_found=None)\n",
    "\n",
    "region_to_iso3 = {}\n",
    "for i in range(len(region_list)):\n",
    "    region_to_iso3[region_list[i]] = iso3_for_team[i]\n",
    "    \n",
    "# Creating a list to store corresponding iso3 code of the region(team)\n",
    "region_column = []\n",
    "for i in range(len(df_new)):\n",
    "    region_column.append(region_to_iso3[df_new.region.iloc[i]])\n",
    "    \n",
    "# Adding New_NOC column to the dataframe\n",
    "df_new['Team_NOC'] = region_column"
   ]
  },
  {
   "cell_type": "code",
   "execution_count": 7,
   "metadata": {},
   "outputs": [],
   "source": [
    "# Creating new column to show if team have played in its own country or not \n",
    "Host=[]\n",
    "for i in range(len(df_medal)):\n",
    "    if df_medal.Team_NOC.iloc[i] == df_medal.Host_NOC.iloc[i]:\n",
    "        Host.append(1)\n",
    "    else:\n",
    "        Host.append(0)\n",
    "\n",
    "# Adding Host column to the dataframe\n",
    "df_medal['Host'] = Host"
   ]
  },
  {
   "cell_type": "code",
   "execution_count": 8,
   "metadata": {},
   "outputs": [],
   "source": [
    "# determining the countries became host anytime\n",
    "host_countries = df_medal.Host_NOC.unique()\n",
    "\n",
    "# filtering dataframe with host countries\n",
    "df_medal_host_only = df_medal.loc[df_medal['Team_NOC'].isin(host_countries)]"
   ]
  },
  {
   "cell_type": "markdown",
   "metadata": {},
   "source": [
    "Different than the logit regression model, we will try to understand if sports are affected by home advantage. Therefore, we will filter the teams that became host and visitor at the specific sport."
   ]
  },
  {
   "cell_type": "code",
   "execution_count": 9,
   "metadata": {},
   "outputs": [],
   "source": [
    "no_host = pd.DataFrame(df_medal_host_only[df_medal_host_only.Host==0].groupby(['Team_NOC','Sport','Host']).Medal.count()).rename(\n",
    "columns={'Medal' : 'Total_number_of_medals'}).reset_index()\n",
    "\n",
    "yes_host = pd.DataFrame(df_medal_host_only[df_medal_host_only.Host==1].groupby(['Team_NOC','Sport','Host']).Medal.count()).rename(\n",
    "columns={'Medal' : 'Total_number_of_medals'}).reset_index()\n",
    "\n",
    "final_df = pd.merge(no_host, yes_host, how ='inner', on =['Team_NOC', 'Sport'])\n",
    "final_df = final_df.drop(['Host_x', 'Host_y'], axis=1)\n",
    "final_df.columns = ['Team_NOC','Sport','total_medals', 'total_medals_when_host']"
   ]
  },
  {
   "cell_type": "markdown",
   "metadata": {},
   "source": [
    "In this approach y variable will be calculated as following:\n",
    "1. `Avg_medal_when_host`  = Average medal won by the team at the specific sport when host \n",
    "2. `Avg_medal_when_count` = Average medal won by the team at the specific sport in all times \n",
    "3. `advantage`            =1, If `Avg_medal_when_host` > `Avg_medal_when_count` ; 0, otherwise\n"
   ]
  },
  {
   "cell_type": "code",
   "execution_count": 10,
   "metadata": {},
   "outputs": [],
   "source": [
    "# Finding the average medal won when host and in overall olympics\n",
    "total_years = []\n",
    "for i in range(len(final_df)):\n",
    "    total_years.append(df_new[(df_new['Team_NOC'] == final_df.Team_NOC.iloc[i]) & (df_new['Sport'] == final_df.Sport.iloc[i])].Year.nunique())\n",
    "final_df['total_years'] = total_years    \n",
    "final_df['Avg_medal_count']  = final_df.total_medals/final_df.total_years\n",
    "\n",
    "total_host_years = []\n",
    "for i in range(len(final_df)):\n",
    "    total_host_years.append(len(df_medal[df_medal.Host_NOC==final_df.Team_NOC.iloc[i]].groupby('Year').Year.count()))    \n",
    "final_df['total_host_years'] = total_host_years \n",
    "final_df['Avg_medal_when_host'] = final_df.total_medals_when_host/final_df.total_host_years\n"
   ]
  },
  {
   "cell_type": "code",
   "execution_count": 11,
   "metadata": {},
   "outputs": [],
   "source": [
    "# Creating y variable 1 if Avg_medal_count greater than Avg_medal_when_host\n",
    "adv_binary=[]\n",
    "for i in range(len(final_df)):\n",
    "    if final_df.Avg_medal_when_host.iloc[i]> final_df.Avg_medal_count.iloc[i]:\n",
    "        adv_binary.append(1)\n",
    "    else:\n",
    "        adv_binary.append(0)\n",
    "final_df['advantage'] = adv_binary"
   ]
  },
  {
   "cell_type": "code",
   "execution_count": 12,
   "metadata": {},
   "outputs": [
    {
     "data": {
      "text/html": [
       "<div>\n",
       "<style scoped>\n",
       "    .dataframe tbody tr th:only-of-type {\n",
       "        vertical-align: middle;\n",
       "    }\n",
       "\n",
       "    .dataframe tbody tr th {\n",
       "        vertical-align: top;\n",
       "    }\n",
       "\n",
       "    .dataframe thead th {\n",
       "        text-align: right;\n",
       "    }\n",
       "</style>\n",
       "<table border=\"1\" class=\"dataframe\">\n",
       "  <thead>\n",
       "    <tr style=\"text-align: right;\">\n",
       "      <th></th>\n",
       "      <th>Team_NOC</th>\n",
       "      <th>Sport</th>\n",
       "      <th>total_medals</th>\n",
       "      <th>total_medals_when_host</th>\n",
       "      <th>total_years</th>\n",
       "      <th>Avg_medal_count</th>\n",
       "      <th>total_host_years</th>\n",
       "      <th>Avg_medal_when_host</th>\n",
       "      <th>advantage</th>\n",
       "    </tr>\n",
       "  </thead>\n",
       "  <tbody>\n",
       "    <tr>\n",
       "      <th>0</th>\n",
       "      <td>AUS</td>\n",
       "      <td>Archery</td>\n",
       "      <td>4</td>\n",
       "      <td>1</td>\n",
       "      <td>12</td>\n",
       "      <td>0.333333</td>\n",
       "      <td>2</td>\n",
       "      <td>0.5</td>\n",
       "      <td>1</td>\n",
       "    </tr>\n",
       "    <tr>\n",
       "      <th>1</th>\n",
       "      <td>AUS</td>\n",
       "      <td>Athletics</td>\n",
       "      <td>68</td>\n",
       "      <td>22</td>\n",
       "      <td>29</td>\n",
       "      <td>2.344828</td>\n",
       "      <td>2</td>\n",
       "      <td>11.0</td>\n",
       "      <td>1</td>\n",
       "    </tr>\n",
       "    <tr>\n",
       "      <th>2</th>\n",
       "      <td>AUS</td>\n",
       "      <td>Basketball</td>\n",
       "      <td>48</td>\n",
       "      <td>12</td>\n",
       "      <td>14</td>\n",
       "      <td>3.428571</td>\n",
       "      <td>2</td>\n",
       "      <td>6.0</td>\n",
       "      <td>1</td>\n",
       "    </tr>\n",
       "    <tr>\n",
       "      <th>3</th>\n",
       "      <td>AUS</td>\n",
       "      <td>Beach Volleyball</td>\n",
       "      <td>2</td>\n",
       "      <td>2</td>\n",
       "      <td>6</td>\n",
       "      <td>0.333333</td>\n",
       "      <td>2</td>\n",
       "      <td>1.0</td>\n",
       "      <td>1</td>\n",
       "    </tr>\n",
       "    <tr>\n",
       "      <th>4</th>\n",
       "      <td>AUS</td>\n",
       "      <td>Boxing</td>\n",
       "      <td>4</td>\n",
       "      <td>1</td>\n",
       "      <td>21</td>\n",
       "      <td>0.190476</td>\n",
       "      <td>2</td>\n",
       "      <td>0.5</td>\n",
       "      <td>1</td>\n",
       "    </tr>\n",
       "  </tbody>\n",
       "</table>\n",
       "</div>"
      ],
      "text/plain": [
       "  Team_NOC             Sport  total_medals  total_medals_when_host  \\\n",
       "0      AUS           Archery             4                       1   \n",
       "1      AUS         Athletics            68                      22   \n",
       "2      AUS        Basketball            48                      12   \n",
       "3      AUS  Beach Volleyball             2                       2   \n",
       "4      AUS            Boxing             4                       1   \n",
       "\n",
       "   total_years  Avg_medal_count  total_host_years  Avg_medal_when_host  \\\n",
       "0           12         0.333333                 2                  0.5   \n",
       "1           29         2.344828                 2                 11.0   \n",
       "2           14         3.428571                 2                  6.0   \n",
       "3            6         0.333333                 2                  1.0   \n",
       "4           21         0.190476                 2                  0.5   \n",
       "\n",
       "   advantage  \n",
       "0          1  \n",
       "1          1  \n",
       "2          1  \n",
       "3          1  \n",
       "4          1  "
      ]
     },
     "execution_count": 12,
     "metadata": {},
     "output_type": "execute_result"
    }
   ],
   "source": [
    "final_df.head(5)"
   ]
  },
  {
   "cell_type": "markdown",
   "metadata": {},
   "source": [
    "## 2. Logistic regression model approach:"
   ]
  },
  {
   "cell_type": "markdown",
   "metadata": {},
   "source": [
    "There will be train and test split, 80% to 20% respectively. Splitting will occur randomly, so `random_state` variable taken as 103 in all logistic regression models."
   ]
  },
  {
   "cell_type": "markdown",
   "metadata": {},
   "source": [
    "### 2.1 features: sport, team"
   ]
  },
  {
   "cell_type": "code",
   "execution_count": 13,
   "metadata": {},
   "outputs": [
    {
     "name": "stdout",
     "output_type": "stream",
     "text": [
      "              precision    recall  f1-score   support\n",
      "\n",
      "           0       0.43      0.16      0.23        19\n",
      "           1       0.73      0.92      0.81        48\n",
      "\n",
      "    accuracy                           0.70        67\n",
      "   macro avg       0.58      0.54      0.52        67\n",
      "weighted avg       0.65      0.70      0.65        67\n",
      "\n"
     ]
    }
   ],
   "source": [
    "team = pd.get_dummies(final_df['Team_NOC'],drop_first=True)\n",
    "sport = pd.get_dummies(final_df['Sport'],drop_first=True)\n",
    "train = final_df.drop(['Team_NOC','Sport','total_medals','total_medals_when_host','total_years',\n",
    "                       'total_host_years', 'Avg_medal_count', 'Avg_medal_when_host' ],axis=1)\n",
    "train = pd.concat([train,team,sport],axis=1)\n",
    "# Splitting data into test and train set \n",
    "X_train, X_test, y_train, y_test = train_test_split(train.drop('advantage',axis=1), \n",
    "                                                    train['advantage'], test_size=0.20, \n",
    "                                                    random_state=103)\n",
    "logmodel = LogisticRegression()\n",
    "logmodel.fit(X_train,y_train)\n",
    "predictions = logmodel.predict(X_test)\n",
    "print(classification_report(y_test,predictions))"
   ]
  },
  {
   "cell_type": "markdown",
   "metadata": {},
   "source": [
    "The following execution is made for visualization purposes and to understand the y variable sigmoid function is used. This step will calculated after each model fitting in logistic regression."
   ]
  },
  {
   "cell_type": "code",
   "execution_count": 14,
   "metadata": {},
   "outputs": [],
   "source": [
    "interc = logmodel.intercept_\n",
    "coefs = logmodel.coef_[0]\n",
    "sports_team = []\n",
    "for i in range(1, 22):\n",
    "    for j in range (22, 75):\n",
    "        sports_team.append(train.columns[i] +'/'+ train.columns[j])\n",
    "result = []\n",
    "for i in range(21):\n",
    "    for j in range(21,74):\n",
    "        result.append(\"{:.2f}\".format(1/(1+ math.exp(-(interc + coefs[i] + coefs[j])))))\n",
    "\n",
    "model_sport_team = pd.DataFrame({'Team/Sport': sports_team,\n",
    "                   'Probability of advantage': result })"
   ]
  },
  {
   "cell_type": "code",
   "execution_count": 15,
   "metadata": {},
   "outputs": [
    {
     "data": {
      "text/html": [
       "<div>\n",
       "<style scoped>\n",
       "    .dataframe tbody tr th:only-of-type {\n",
       "        vertical-align: middle;\n",
       "    }\n",
       "\n",
       "    .dataframe tbody tr th {\n",
       "        vertical-align: top;\n",
       "    }\n",
       "\n",
       "    .dataframe thead th {\n",
       "        text-align: right;\n",
       "    }\n",
       "</style>\n",
       "<table border=\"1\" class=\"dataframe\">\n",
       "  <thead>\n",
       "    <tr style=\"text-align: right;\">\n",
       "      <th></th>\n",
       "      <th>Team/Sport</th>\n",
       "      <th>Probability of advantage</th>\n",
       "    </tr>\n",
       "  </thead>\n",
       "  <tbody>\n",
       "    <tr>\n",
       "      <th>0</th>\n",
       "      <td>AUT/Archery</td>\n",
       "      <td>0.72</td>\n",
       "    </tr>\n",
       "    <tr>\n",
       "      <th>1</th>\n",
       "      <td>AUT/Art Competitions</td>\n",
       "      <td>0.60</td>\n",
       "    </tr>\n",
       "    <tr>\n",
       "      <th>2</th>\n",
       "      <td>AUT/Athletics</td>\n",
       "      <td>0.52</td>\n",
       "    </tr>\n",
       "    <tr>\n",
       "      <th>3</th>\n",
       "      <td>AUT/Badminton</td>\n",
       "      <td>0.54</td>\n",
       "    </tr>\n",
       "    <tr>\n",
       "      <th>4</th>\n",
       "      <td>AUT/Baseball</td>\n",
       "      <td>0.42</td>\n",
       "    </tr>\n",
       "  </tbody>\n",
       "</table>\n",
       "</div>"
      ],
      "text/plain": [
       "             Team/Sport Probability of advantage\n",
       "0           AUT/Archery                     0.72\n",
       "1  AUT/Art Competitions                     0.60\n",
       "2         AUT/Athletics                     0.52\n",
       "3         AUT/Badminton                     0.54\n",
       "4          AUT/Baseball                     0.42"
      ]
     },
     "execution_count": 15,
     "metadata": {},
     "output_type": "execute_result"
    }
   ],
   "source": [
    "model_sport_team.head(5)"
   ]
  },
  {
   "cell_type": "markdown",
   "metadata": {},
   "source": [
    "### 2.2 feature: sport"
   ]
  },
  {
   "cell_type": "code",
   "execution_count": 16,
   "metadata": {},
   "outputs": [
    {
     "name": "stdout",
     "output_type": "stream",
     "text": [
      "              precision    recall  f1-score   support\n",
      "\n",
      "           0       0.33      0.05      0.09        19\n",
      "           1       0.72      0.96      0.82        48\n",
      "\n",
      "    accuracy                           0.70        67\n",
      "   macro avg       0.53      0.51      0.46        67\n",
      "weighted avg       0.61      0.70      0.61        67\n",
      "\n"
     ]
    }
   ],
   "source": [
    "train = final_df.drop(['Team_NOC','Sport','total_medals','total_medals_when_host','total_years',\n",
    "                       'total_host_years', 'Avg_medal_count', 'Avg_medal_when_host' ],axis=1)\n",
    "train = pd.concat([train,sport],axis=1)\n",
    "# Splitting data into test and train set \n",
    "X_train, X_test, y_train, y_test = train_test_split(train.drop('advantage',axis=1), \n",
    "                                                    train['advantage'], test_size=0.20, \n",
    "                                                    random_state=103)\n",
    "logmodel = LogisticRegression()\n",
    "logmodel.fit(X_train,y_train)\n",
    "predictions = logmodel.predict(X_test)\n",
    "print(classification_report(y_test,predictions))"
   ]
  },
  {
   "cell_type": "code",
   "execution_count": 17,
   "metadata": {},
   "outputs": [],
   "source": [
    "interc = logmodel.intercept_\n",
    "coefs = logmodel.coef_[0]\n",
    "sports = []\n",
    "for i in range(1, len(train.columns)):\n",
    "    sports.append(train.columns[i])\n",
    "result = []\n",
    "for i in range(len(sports)):\n",
    "    result.append(\"{:.2f}\".format(1/(1+ math.exp(-(interc + coefs[i])))))\n",
    "\n",
    "model_sport = pd.DataFrame({'Sport': sports,\n",
    "                   'Probability of advantage': result })"
   ]
  },
  {
   "cell_type": "code",
   "execution_count": 18,
   "metadata": {},
   "outputs": [
    {
     "data": {
      "text/html": [
       "<div>\n",
       "<style scoped>\n",
       "    .dataframe tbody tr th:only-of-type {\n",
       "        vertical-align: middle;\n",
       "    }\n",
       "\n",
       "    .dataframe tbody tr th {\n",
       "        vertical-align: top;\n",
       "    }\n",
       "\n",
       "    .dataframe thead th {\n",
       "        text-align: right;\n",
       "    }\n",
       "</style>\n",
       "<table border=\"1\" class=\"dataframe\">\n",
       "  <thead>\n",
       "    <tr style=\"text-align: right;\">\n",
       "      <th></th>\n",
       "      <th>Sport</th>\n",
       "      <th>Probability of advantage</th>\n",
       "    </tr>\n",
       "  </thead>\n",
       "  <tbody>\n",
       "    <tr>\n",
       "      <th>0</th>\n",
       "      <td>Archery</td>\n",
       "      <td>0.84</td>\n",
       "    </tr>\n",
       "    <tr>\n",
       "      <th>1</th>\n",
       "      <td>Art Competitions</td>\n",
       "      <td>0.78</td>\n",
       "    </tr>\n",
       "    <tr>\n",
       "      <th>2</th>\n",
       "      <td>Athletics</td>\n",
       "      <td>0.71</td>\n",
       "    </tr>\n",
       "    <tr>\n",
       "      <th>3</th>\n",
       "      <td>Badminton</td>\n",
       "      <td>0.76</td>\n",
       "    </tr>\n",
       "    <tr>\n",
       "      <th>4</th>\n",
       "      <td>Baseball</td>\n",
       "      <td>0.58</td>\n",
       "    </tr>\n",
       "  </tbody>\n",
       "</table>\n",
       "</div>"
      ],
      "text/plain": [
       "              Sport Probability of advantage\n",
       "0           Archery                     0.84\n",
       "1  Art Competitions                     0.78\n",
       "2         Athletics                     0.71\n",
       "3         Badminton                     0.76\n",
       "4          Baseball                     0.58"
      ]
     },
     "execution_count": 18,
     "metadata": {},
     "output_type": "execute_result"
    }
   ],
   "source": [
    "model_sport.head(5)"
   ]
  },
  {
   "cell_type": "markdown",
   "metadata": {},
   "source": [
    "### 2.3 feature: team"
   ]
  },
  {
   "cell_type": "code",
   "execution_count": 19,
   "metadata": {},
   "outputs": [
    {
     "name": "stdout",
     "output_type": "stream",
     "text": [
      "              precision    recall  f1-score   support\n",
      "\n",
      "           0       0.50      0.11      0.17        19\n",
      "           1       0.73      0.96      0.83        48\n",
      "\n",
      "    accuracy                           0.72        67\n",
      "   macro avg       0.62      0.53      0.50        67\n",
      "weighted avg       0.66      0.72      0.64        67\n",
      "\n"
     ]
    }
   ],
   "source": [
    "train = final_df.drop(['Team_NOC','Sport','total_medals','total_medals_when_host','total_years',\n",
    "                       'total_host_years', 'Avg_medal_count', 'Avg_medal_when_host' ],axis=1)\n",
    "train = pd.concat([train,team],axis=1)\n",
    "# Splitting data into test and train set \n",
    "X_train, X_test, y_train, y_test = train_test_split(train.drop('advantage',axis=1), \n",
    "                                                    train['advantage'], test_size=0.20, \n",
    "                                                    random_state=103)\n",
    "logmodel = LogisticRegression()\n",
    "logmodel.fit(X_train,y_train)\n",
    "predictions = logmodel.predict(X_test)\n",
    "print(classification_report(y_test,predictions))"
   ]
  },
  {
   "cell_type": "code",
   "execution_count": 20,
   "metadata": {},
   "outputs": [],
   "source": [
    "interc = logmodel.intercept_\n",
    "coefs = logmodel.coef_[0]\n",
    "teams = []\n",
    "for i in range(1, len(train.columns)):\n",
    "    teams.append(train.columns[i])\n",
    "result = []\n",
    "for i in range(len(teams)):\n",
    "    result.append(\"{:.2f}\".format(1/(1+ math.exp(-(interc + coefs[i])))))\n",
    "\n",
    "model_team = pd.DataFrame({'Team': teams,\n",
    "                   'Probability of advantage': result })"
   ]
  },
  {
   "cell_type": "code",
   "execution_count": 21,
   "metadata": {},
   "outputs": [
    {
     "data": {
      "text/html": [
       "<div>\n",
       "<style scoped>\n",
       "    .dataframe tbody tr th:only-of-type {\n",
       "        vertical-align: middle;\n",
       "    }\n",
       "\n",
       "    .dataframe tbody tr th {\n",
       "        vertical-align: top;\n",
       "    }\n",
       "\n",
       "    .dataframe thead th {\n",
       "        text-align: right;\n",
       "    }\n",
       "</style>\n",
       "<table border=\"1\" class=\"dataframe\">\n",
       "  <thead>\n",
       "    <tr style=\"text-align: right;\">\n",
       "      <th></th>\n",
       "      <th>Team</th>\n",
       "      <th>Probability of advantage</th>\n",
       "    </tr>\n",
       "  </thead>\n",
       "  <tbody>\n",
       "    <tr>\n",
       "      <th>0</th>\n",
       "      <td>AUT</td>\n",
       "      <td>0.53</td>\n",
       "    </tr>\n",
       "    <tr>\n",
       "      <th>1</th>\n",
       "      <td>BEL</td>\n",
       "      <td>0.89</td>\n",
       "    </tr>\n",
       "    <tr>\n",
       "      <th>2</th>\n",
       "      <td>BRA</td>\n",
       "      <td>0.85</td>\n",
       "    </tr>\n",
       "    <tr>\n",
       "      <th>3</th>\n",
       "      <td>CAN</td>\n",
       "      <td>0.62</td>\n",
       "    </tr>\n",
       "    <tr>\n",
       "      <th>4</th>\n",
       "      <td>CHE</td>\n",
       "      <td>0.77</td>\n",
       "    </tr>\n",
       "  </tbody>\n",
       "</table>\n",
       "</div>"
      ],
      "text/plain": [
       "  Team Probability of advantage\n",
       "0  AUT                     0.53\n",
       "1  BEL                     0.89\n",
       "2  BRA                     0.85\n",
       "3  CAN                     0.62\n",
       "4  CHE                     0.77"
      ]
     },
     "execution_count": 21,
     "metadata": {},
     "output_type": "execute_result"
    }
   ],
   "source": [
    "model_team.head(5)"
   ]
  },
  {
   "cell_type": "markdown",
   "metadata": {},
   "source": [
    "## 3. Discussion about the results"
   ]
  },
  {
   "cell_type": "markdown",
   "metadata": {},
   "source": [
    " F-score, recall and precision scores found satisfactory for 1 labeled data, in contrast these performance measurements give pretty low scores for 0 labeled data. From the results, it can be understood that support is distrubuted unbalanced while labeling data. The data is labeled mostly as adavantage (1), so in the test data prediction is inclined with 1 label. \n",
    " In conclusion, it can be said that the models does not show strong relation between home advantage and sport, team variables. "
   ]
  },
  {
   "cell_type": "markdown",
   "metadata": {},
   "source": [
    "## 4. Logit regression model approach"
   ]
  },
  {
   "cell_type": "markdown",
   "metadata": {},
   "source": [
    "Similar data filtering will be taken in this section, but the differences can be listed as below:\n",
    "\n",
    "1. Up until 1992, the Winter and Summer Games were held in the same year. Then, they occured in different years. In order to have a same year gap between the games, only Summer Olympics will be considered. Also, there are less medals given in the Winter Olympics.\n",
    "2. Because there will be no investigation in the sport level, extra filtering is not needed like logistic regression models. The filtering only applied to the teams that experienced being host. "
   ]
  },
  {
   "cell_type": "code",
   "execution_count": 22,
   "metadata": {},
   "outputs": [],
   "source": [
    "raw_data = pd.read_csv('data/athlete_events.csv',index_col=\"ID\")\n",
    "regions = pd.read_csv('data/noc_regions.csv')\n",
    "df = pd.merge(raw_data, regions, on='NOC', how='left')\n",
    "# Creating a new dataframe which does not contain non medal data\n",
    "df_medal = df[df.Medal.isnull() == False]\n",
    "df_medal = df_medal[df_medal.Year >= 1948]\n",
    "df_medal = df_medal[df_medal.Season == 'Summer']\n",
    "df_new = df.copy()\n",
    "df_new = df_new[df_new.Year >= 1948]\n",
    "df_new = df_new[df_new.Season == 'Summer']\n",
    "\n",
    "# Dropping the unncessary columns\n",
    "df_medal = df_medal.drop(['Name', 'Sex', 'Age', 'Height', 'Weight', 'notes', 'NOC'], axis=1)\n",
    "\n",
    "# Since 'Individual Olympic Athletes' variable in 'Team' column does not show country information,\n",
    "# rows with this variable will be dropped.\n",
    "df_medal.drop( df_medal[ df_medal['Team'] == 'Individual Olympic Athletes' ].index , inplace=True)\n",
    "df_new.drop( df_new[ df_new['Team'] == 'Individual Olympic Athletes' ].index , inplace=True)\n",
    "\n",
    "df_medal.loc[df_medal.region == \"US\", \"region\"] = \"United States\"\n",
    "df_medal.loc[df_medal.region == \"USA\", \"region\"] = \"United States\"\n",
    "df_medal.loc[df_medal.region == \"UK\", \"region\"] = \"United Kingdom\"\n",
    "df_medal.loc[df_medal.region == \"Boliva\", \"region\"] = \"Bolivia\"\n",
    "df_medal.dropna(subset = [\"region\"], inplace=True)\n",
    "df_new.loc[df_new.region == \"US\", \"region\"] = \"United States\"\n",
    "df_new.loc[df_new.region == \"USA\", \"region\"] = \"United States\"\n",
    "df_new.loc[df_new.region == \"UK\", \"region\"] = \"United Kingdom\"\n",
    "df_new.loc[df_new.region == \"Boliva\", \"region\"] = \"Bolivia\"\n",
    "df_new.dropna(subset = [\"region\"], inplace=True)\n",
    "\n",
    "# Converting host cities to host countries \n",
    "geolocator = Nominatim(user_agent = \"geoapiExercises\") \n",
    "uniq_host_cities = list(df_medal.City.unique())\n",
    "uniq_host_countries = []\n",
    "for city in uniq_host_cities:\n",
    "    location = geolocator.geocode(city, language='en') \n",
    "    uniq_host_countries.append(location[0].split(',')[-1])\n",
    "    \n",
    "# Converting host countries to iso3 values\n",
    "iso3_for_host = coco.convert(names=uniq_host_countries, to='ISO3', not_found=None)\n",
    "\n",
    "# Creating a dictionary in order to match host city to iso3 code\n",
    "host_city_to_iso3 = {}\n",
    "for i in range(len(uniq_host_cities)):\n",
    "    host_city_to_iso3[uniq_host_cities[i]] = iso3_for_host[i]\n",
    "    \n",
    "# Creating a list to store corresponding iso3 code of the host city\n",
    "host_NOC_column = []\n",
    "for i in range(len(df_medal)):\n",
    "    host_NOC_column.append(host_city_to_iso3[df_medal.City.iloc[i]])\n",
    "    \n",
    "# Adding Team_NOC column to the dataframe\n",
    "df_medal['Host_NOC'] = host_NOC_column\n",
    "\n",
    "# Some NOC values mismatch with iso3 values (e.g. Germany -> DEU/GER) \n",
    "# Therefore in order to have a consistency iso3 values are found based on region column\n",
    "region_list = list(df_medal.region.unique())\n",
    "iso3_for_team = coco.convert(names=region_list, to='ISO3', not_found=None)\n",
    "\n",
    "# Creating a dictionary in order to match region to iso3 code\n",
    "region_to_iso3 = {}\n",
    "for i in range(len(region_list)):\n",
    "    region_to_iso3[region_list[i]] = iso3_for_team[i]\n",
    "    \n",
    "# Creating a list to store corresponding iso3 code of the region(team)\n",
    "region_column = []\n",
    "for i in range(len(df_medal)):\n",
    "    region_column.append(region_to_iso3[df_medal.region.iloc[i]])\n",
    "    \n",
    "# Adding Team_NOC column to the dataframe\n",
    "df_medal['Team_NOC'] = region_column\n",
    "\n",
    "# Doing the same process with df_new dataframe\n",
    "region_list = list(df_new.region.unique())\n",
    "iso3_for_team = coco.convert(names=region_list, to='ISO3', not_found=None)\n",
    "\n",
    "region_to_iso3 = {}\n",
    "for i in range(len(region_list)):\n",
    "    region_to_iso3[region_list[i]] = iso3_for_team[i]\n",
    "    \n",
    "# Creating a list to store corresponding iso3 code of the region(team)\n",
    "region_column = []\n",
    "for i in range(len(df_new)):\n",
    "    region_column.append(region_to_iso3[df_new.region.iloc[i]])\n",
    "    \n",
    "# Adding New_NOC column to the dataframe\n",
    "df_new['Team_NOC'] = region_column\n",
    "\n",
    "# Creating new column to show if team have played in its own country or not \n",
    "Host=[]\n",
    "for i in range(len(df_medal)):\n",
    "    if df_medal.Team_NOC.iloc[i] == df_medal.Host_NOC.iloc[i]:\n",
    "        Host.append(1)\n",
    "    else:\n",
    "        Host.append(0)\n",
    "\n",
    "# Adding Host column to the dataframe\n",
    "df_medal['Host'] = Host\n",
    "\n",
    "# determining the countries became host anytime\n",
    "host_countries = df_medal.Host_NOC.unique()\n",
    "\n",
    "# filtering dataframe with host countries\n",
    "df_medal_host_only = df_medal.loc[df_medal['Team_NOC'].isin(host_countries)]"
   ]
  },
  {
   "cell_type": "markdown",
   "metadata": {},
   "source": [
    "The following dictionary is created to consist host countries for the each Olympic game. `Year` and `Host` are observed as key and value of the dictionary correspondingly. "
   ]
  },
  {
   "cell_type": "code",
   "execution_count": 23,
   "metadata": {},
   "outputs": [],
   "source": [
    "host_df = pd.DataFrame(df_medal_host_only.groupby(['Year','Team_NOC']).Host.sum() > 0).rename(\n",
    "columns={'Host' : 'Host'}).reset_index()\n",
    "host_df = host_df[host_df.Host==True]\n",
    "host_df = host_df.drop('Host',axis=1)\n",
    "host_df\n",
    "host_df_dict={}\n",
    "for i in range(len(host_df)):\n",
    "    year = str(host_df.Year.iloc[i])\n",
    "    if host_df.Year.iloc[i] in host_df_dict:\n",
    "        host_df_dict[host_df.Year.iloc[i]].append(host_df.Team_NOC.iloc[i])\n",
    "    else:\n",
    "        host_df_dict[host_df.Year.iloc[i]]= [host_df.Team_NOC.iloc[i]]"
   ]
  },
  {
   "cell_type": "markdown",
   "metadata": {},
   "source": [
    "Team games consist more than 1 medal, so the following code is calculated to count 1 medal for the team game also."
   ]
  },
  {
   "cell_type": "code",
   "execution_count": 24,
   "metadata": {},
   "outputs": [],
   "source": [
    "df_clean = df_new.copy()\n",
    "df_clean['Target_Variable'] = np.where(df_clean['Medal'].isnull(), 0, 1)\n",
    "team_sports = df_clean.groupby(['Year', 'Event']).Target_Variable.sum().reset_index(name='count')\n",
    "team_sport_list = team_sports[team_sports['count'] > 4].Event.unique().tolist()\n",
    "\n",
    "df_clean['sport_type'] = ['team' if event in team_sport_list else 'individual' for event in df_clean.Event.tolist()]\n",
    "\n",
    "# 2. Do the groupby such that team sports are grouped by year, NOC and event to get the average athlete of that year, \n",
    "# event and team\n",
    "\n",
    "df_individual = df_clean[df_clean.sport_type == 'individual']\n",
    "df_team = df_clean[df_clean.sport_type == 'team']\n",
    "\n",
    "df_team_grouped = df_team.groupby(['Year', 'NOC', 'Event']).agg({'Age': 'mean',\n",
    "                                                                 'Height': 'mean',\n",
    "                                                                 'Weight': 'mean'})\n",
    "\n",
    "df_team_grouped.reset_index(level=['Year', 'NOC', 'Event'], inplace=True)\n",
    "\n",
    "df_team = df_team_grouped.merge(df_team.groupby(['Year', 'NOC', 'Event']).head(1).reset_index(drop=True), \n",
    "                      on=['Year', 'NOC', 'Event'], suffixes=(None, '_individual'))\n",
    "\n",
    "df_team.drop(columns=['Age_individual', 'Height_individual', 'Weight_individual'], inplace=True)\n",
    "\n",
    "df_clean = pd.concat((df_individual, df_team), ignore_index=True)"
   ]
  },
  {
   "cell_type": "code",
   "execution_count": 25,
   "metadata": {},
   "outputs": [],
   "source": [
    "# Number of total medal for each year\n",
    "total_medals = {}\n",
    "years = df_clean.Year.unique()\n",
    "years.sort()\n",
    "for i in years:\n",
    "    total_medals[i]= df_clean[df_clean.Year == i ].Medal.count()"
   ]
  },
  {
   "cell_type": "markdown",
   "metadata": {},
   "source": [
    "Independent variables creation is examined in the following:"
   ]
  },
  {
   "cell_type": "code",
   "execution_count": 26,
   "metadata": {},
   "outputs": [],
   "source": [
    "df_final = pd.DataFrame({ 'Team': [] ,'Year': [],\n",
    "                   'Medals_winning_rate': [], 'prehost' : [], 'host' : [], 'posthost' : [] })\n",
    "team_column = []\n",
    "for j in host_countries:    \n",
    "    df = pd.DataFrame(df_clean[df_clean.Team_NOC == j].groupby('Year').Medal.count()).rename(columns={'Medal':'Medals_winning_rate'}).reset_index()\n",
    "    host_column = []\n",
    "    for i in range(len(df)):\n",
    "        team_column.append(j)\n",
    "        if j in host_df_dict[df.Year.iloc[i]]:\n",
    "            host_column.append(1)\n",
    "        else:\n",
    "            host_column.append(0)\n",
    "    df['prehost'] = np.zeros(len(df))\n",
    "    df['host'] = host_column\n",
    "    df['posthost'] = np.zeros(len(df))\n",
    "    df['prehost'] = np.append(list(df['host'])[1:],list([0]))\n",
    "    df['posthost'] = np.append(list([0]), list(df['host'])[:-1])\n",
    "    tot_med_col = []\n",
    "    for i in range(len(df)):\n",
    "        tot_med_col.append(total_medals[df.Year.iloc[i]])\n",
    "    df['Medals_winning_rate'] = df['Medals_winning_rate']/tot_med_col\n",
    "    df_final = pd.concat([df_final, df])\n",
    "df_final['Team'] = team_column\n",
    "# in order to see the year column as integer\n",
    "year = []\n",
    "for i in df_final.Year:\n",
    "    year.append(int(i))\n",
    "df_final['Year'] = year"
   ]
  },
  {
   "cell_type": "code",
   "execution_count": 27,
   "metadata": {},
   "outputs": [
    {
     "data": {
      "text/html": [
       "<div>\n",
       "<style scoped>\n",
       "    .dataframe tbody tr th:only-of-type {\n",
       "        vertical-align: middle;\n",
       "    }\n",
       "\n",
       "    .dataframe tbody tr th {\n",
       "        vertical-align: top;\n",
       "    }\n",
       "\n",
       "    .dataframe thead th {\n",
       "        text-align: right;\n",
       "    }\n",
       "</style>\n",
       "<table border=\"1\" class=\"dataframe\">\n",
       "  <thead>\n",
       "    <tr style=\"text-align: right;\">\n",
       "      <th></th>\n",
       "      <th>Team</th>\n",
       "      <th>Year</th>\n",
       "      <th>Medals_winning_rate</th>\n",
       "      <th>prehost</th>\n",
       "      <th>host</th>\n",
       "      <th>posthost</th>\n",
       "    </tr>\n",
       "  </thead>\n",
       "  <tbody>\n",
       "    <tr>\n",
       "      <th>0</th>\n",
       "      <td>GBR</td>\n",
       "      <td>1948</td>\n",
       "      <td>0.062937</td>\n",
       "      <td>0.0</td>\n",
       "      <td>1.0</td>\n",
       "      <td>0.0</td>\n",
       "    </tr>\n",
       "    <tr>\n",
       "      <th>1</th>\n",
       "      <td>GBR</td>\n",
       "      <td>1952</td>\n",
       "      <td>0.024887</td>\n",
       "      <td>0.0</td>\n",
       "      <td>0.0</td>\n",
       "      <td>1.0</td>\n",
       "    </tr>\n",
       "    <tr>\n",
       "      <th>2</th>\n",
       "      <td>GBR</td>\n",
       "      <td>1956</td>\n",
       "      <td>0.052863</td>\n",
       "      <td>0.0</td>\n",
       "      <td>0.0</td>\n",
       "      <td>0.0</td>\n",
       "    </tr>\n",
       "    <tr>\n",
       "      <th>3</th>\n",
       "      <td>GBR</td>\n",
       "      <td>1960</td>\n",
       "      <td>0.044944</td>\n",
       "      <td>0.0</td>\n",
       "      <td>0.0</td>\n",
       "      <td>0.0</td>\n",
       "    </tr>\n",
       "    <tr>\n",
       "      <th>4</th>\n",
       "      <td>GBR</td>\n",
       "      <td>1964</td>\n",
       "      <td>0.036660</td>\n",
       "      <td>0.0</td>\n",
       "      <td>0.0</td>\n",
       "      <td>0.0</td>\n",
       "    </tr>\n",
       "  </tbody>\n",
       "</table>\n",
       "</div>"
      ],
      "text/plain": [
       "  Team  Year  Medals_winning_rate  prehost  host  posthost\n",
       "0  GBR  1948             0.062937      0.0   1.0       0.0\n",
       "1  GBR  1952             0.024887      0.0   0.0       1.0\n",
       "2  GBR  1956             0.052863      0.0   0.0       0.0\n",
       "3  GBR  1960             0.044944      0.0   0.0       0.0\n",
       "4  GBR  1964             0.036660      0.0   0.0       0.0"
      ]
     },
     "execution_count": 27,
     "metadata": {},
     "output_type": "execute_result"
    }
   ],
   "source": [
    "df_final.head(5)"
   ]
  },
  {
   "cell_type": "code",
   "execution_count": 28,
   "metadata": {},
   "outputs": [
    {
     "name": "stdout",
     "output_type": "stream",
     "text": [
      "Optimization terminated successfully.\n",
      "         Current function value: 0.577850\n",
      "         Iterations 7\n",
      "                          Results: Logit\n",
      "==================================================================\n",
      "Model:              Logit               Pseudo R-squared: inf     \n",
      "Dependent Variable: Medals_winning_rate AIC:              328.4401\n",
      "Date:               2020-12-27 14:14    BIC:              339.3338\n",
      "No. Observations:   279                 Log-Likelihood:   -161.22 \n",
      "Df Model:           2                   LL-Null:          0.0000  \n",
      "Df Residuals:       276                 LLR p-value:      1.0000  \n",
      "Converged:          1.0000              Scale:            1.0000  \n",
      "No. Iterations:     7.0000                                        \n",
      "--------------------------------------------------------------------\n",
      "            Coef.    Std.Err.      z      P>|z|     [0.025    0.975]\n",
      "--------------------------------------------------------------------\n",
      "prehost    -2.7592     0.9959   -2.7707   0.0056   -4.7111   -0.8074\n",
      "host       -2.3911     0.8277   -2.8888   0.0039   -4.0134   -0.7688\n",
      "posthost   -2.6598     0.9535   -2.7896   0.0053   -4.5286   -0.7911\n",
      "==================================================================\n",
      "\n"
     ]
    },
    {
     "name": "stderr",
     "output_type": "stream",
     "text": [
      "/Users/tanselsimsek/opt/anaconda3/envs/adm_project/lib/python3.7/site-packages/statsmodels/discrete/discrete_model.py:3489: RuntimeWarning: divide by zero encountered in double_scalars\n",
      "  return 1 - self.llf/self.llnull\n"
     ]
    }
   ],
   "source": [
    "y = df_final['Medals_winning_rate']\n",
    "X = df_final.drop(['Year', 'Medals_winning_rate', 'Team' ], axis=1)\n",
    "logit_model=sm.Logit(y,X)\n",
    "result=logit_model.fit()\n",
    "print(result.summary2())"
   ]
  },
  {
   "cell_type": "markdown",
   "metadata": {},
   "source": [
    "## 5. Discussion about the results"
   ]
  },
  {
   "cell_type": "markdown",
   "metadata": {},
   "source": [
    "This approach firstly tried to examine in the team level, model is fitted country specific, but none of the model gave low enough p-values to prove significance of the variables. Then, combined model idea is tried. In that way, number of data points are increased. From the results, we can see that p-values are very satisfying to say the x variables are all significant. However, Pseudo R-squared value is found as infinity. We know that R-squared value closes to 1.0 shows that fitted model predicts in a good way. Negative or infinity R-squared value is a sign of a problematic models. Regarding this problem, there is not enought explanation. But it is explained as over specification problem of the selected model. Extra data collection or dropping some variables are suggested, but in our case, we merged the countries in order to provide more data. So, extra data collection is already tried in that sense. \n",
    "One of the criticism can be made as merging different countries into same dataset could create some bias. For instance, even USA was not pre/post/host in a year, the y value could be still higher than a country compete generally less number of sports. \n",
    "To conclude, different approaches and models are tried to see if host effect can be taken as advantage or not, from the performance measures' investigation we can say that there is no strong model to show hosting brigs advantage to the teams."
   ]
  }
 ],
 "metadata": {
  "kernelspec": {
   "display_name": "Python 3",
   "language": "python",
   "name": "python3"
  },
  "language_info": {
   "codemirror_mode": {
    "name": "ipython",
    "version": 3
   },
   "file_extension": ".py",
   "mimetype": "text/x-python",
   "name": "python",
   "nbconvert_exporter": "python",
   "pygments_lexer": "ipython3",
   "version": "3.7.9"
  }
 },
 "nbformat": 4,
 "nbformat_minor": 4
}
